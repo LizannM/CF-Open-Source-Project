{
 "cells": [
  {
   "cell_type": "markdown",
   "id": "b0a3dcf7",
   "metadata": {},
   "source": [
    "# Airbnb Calendar Understanding and Cleansing"
   ]
  },
  {
   "cell_type": "markdown",
   "id": "8d3b76fb",
   "metadata": {},
   "source": [
    "1. Import Libraries\n",
    "2. Import Calendar Data\n",
    "3. Change Data Type & Find missing values\n",
    "4. Check for duplicates\n",
    "5. Histogram - Price\n",
    "6. Histogram - Adjusted_price\n",
    "7. Histogram - Minimum Nights\n",
    "8. Histogram - Maximum Nights\n",
    "9. Descriptive Analysis\n",
    "10. Export"
   ]
  },
  {
   "cell_type": "markdown",
   "id": "7f8074a2",
   "metadata": {},
   "source": [
    "# 1. Import Libraries"
   ]
  },
  {
   "cell_type": "code",
   "execution_count": 1,
   "id": "3b24da1b",
   "metadata": {},
   "outputs": [],
   "source": [
    "# Import Libraries\n",
    "import pandas as pd\n",
    "import numpy as np\n",
    "import os"
   ]
  },
  {
   "cell_type": "markdown",
   "id": "468fd3d1",
   "metadata": {},
   "source": [
    "# 2. Import Calendar Data"
   ]
  },
  {
   "cell_type": "code",
   "execution_count": 2,
   "id": "e5d41434",
   "metadata": {},
   "outputs": [],
   "source": [
    "path = r'C:\\Users\\lizan\\Desktop\\Data Analytics\\07-22 Airbnb Toronto Analysis'"
   ]
  },
  {
   "cell_type": "code",
   "execution_count": 3,
   "id": "99d412a6",
   "metadata": {},
   "outputs": [],
   "source": [
    "cal = pd.read_csv(os.path.join(path,'02 Data', 'Original Data', 'calendar.csv'), index_col = False)"
   ]
  },
  {
   "cell_type": "code",
   "execution_count": 4,
   "id": "cb2a4dd8",
   "metadata": {},
   "outputs": [
    {
     "data": {
      "text/html": [
       "<div>\n",
       "<style scoped>\n",
       "    .dataframe tbody tr th:only-of-type {\n",
       "        vertical-align: middle;\n",
       "    }\n",
       "\n",
       "    .dataframe tbody tr th {\n",
       "        vertical-align: top;\n",
       "    }\n",
       "\n",
       "    .dataframe thead th {\n",
       "        text-align: right;\n",
       "    }\n",
       "</style>\n",
       "<table border=\"1\" class=\"dataframe\">\n",
       "  <thead>\n",
       "    <tr style=\"text-align: right;\">\n",
       "      <th></th>\n",
       "      <th>listing_id</th>\n",
       "      <th>date</th>\n",
       "      <th>available</th>\n",
       "      <th>price</th>\n",
       "      <th>adjusted_price</th>\n",
       "      <th>minimum_nights</th>\n",
       "      <th>maximum_nights</th>\n",
       "    </tr>\n",
       "  </thead>\n",
       "  <tbody>\n",
       "    <tr>\n",
       "      <th>0</th>\n",
       "      <td>1419</td>\n",
       "      <td>2022-06-06</td>\n",
       "      <td>f</td>\n",
       "      <td>$469.00</td>\n",
       "      <td>$469.00</td>\n",
       "      <td>28.0</td>\n",
       "      <td>730.0</td>\n",
       "    </tr>\n",
       "    <tr>\n",
       "      <th>1</th>\n",
       "      <td>1419</td>\n",
       "      <td>2022-06-07</td>\n",
       "      <td>f</td>\n",
       "      <td>$469.00</td>\n",
       "      <td>$469.00</td>\n",
       "      <td>28.0</td>\n",
       "      <td>730.0</td>\n",
       "    </tr>\n",
       "    <tr>\n",
       "      <th>2</th>\n",
       "      <td>1419</td>\n",
       "      <td>2022-06-08</td>\n",
       "      <td>f</td>\n",
       "      <td>$469.00</td>\n",
       "      <td>$469.00</td>\n",
       "      <td>28.0</td>\n",
       "      <td>730.0</td>\n",
       "    </tr>\n",
       "    <tr>\n",
       "      <th>3</th>\n",
       "      <td>1419</td>\n",
       "      <td>2022-06-09</td>\n",
       "      <td>f</td>\n",
       "      <td>$469.00</td>\n",
       "      <td>$469.00</td>\n",
       "      <td>28.0</td>\n",
       "      <td>730.0</td>\n",
       "    </tr>\n",
       "    <tr>\n",
       "      <th>4</th>\n",
       "      <td>1419</td>\n",
       "      <td>2022-06-10</td>\n",
       "      <td>f</td>\n",
       "      <td>$469.00</td>\n",
       "      <td>$469.00</td>\n",
       "      <td>28.0</td>\n",
       "      <td>730.0</td>\n",
       "    </tr>\n",
       "  </tbody>\n",
       "</table>\n",
       "</div>"
      ],
      "text/plain": [
       "   listing_id        date available    price adjusted_price  minimum_nights  \\\n",
       "0        1419  2022-06-06         f  $469.00        $469.00            28.0   \n",
       "1        1419  2022-06-07         f  $469.00        $469.00            28.0   \n",
       "2        1419  2022-06-08         f  $469.00        $469.00            28.0   \n",
       "3        1419  2022-06-09         f  $469.00        $469.00            28.0   \n",
       "4        1419  2022-06-10         f  $469.00        $469.00            28.0   \n",
       "\n",
       "   maximum_nights  \n",
       "0           730.0  \n",
       "1           730.0  \n",
       "2           730.0  \n",
       "3           730.0  \n",
       "4           730.0  "
      ]
     },
     "execution_count": 4,
     "metadata": {},
     "output_type": "execute_result"
    }
   ],
   "source": [
    "cal.head()"
   ]
  },
  {
   "cell_type": "code",
   "execution_count": 5,
   "id": "c90c9f2d",
   "metadata": {},
   "outputs": [
    {
     "data": {
      "text/plain": [
       "(5537417, 7)"
      ]
     },
     "execution_count": 5,
     "metadata": {},
     "output_type": "execute_result"
    }
   ],
   "source": [
    "cal.shape"
   ]
  },
  {
   "cell_type": "code",
   "execution_count": 6,
   "id": "21526d97",
   "metadata": {},
   "outputs": [
    {
     "name": "stdout",
     "output_type": "stream",
     "text": [
      "<class 'pandas.core.frame.DataFrame'>\n",
      "RangeIndex: 5537417 entries, 0 to 5537416\n",
      "Data columns (total 7 columns):\n",
      " #   Column          Dtype  \n",
      "---  ------          -----  \n",
      " 0   listing_id      int64  \n",
      " 1   date            object \n",
      " 2   available       object \n",
      " 3   price           object \n",
      " 4   adjusted_price  object \n",
      " 5   minimum_nights  float64\n",
      " 6   maximum_nights  float64\n",
      "dtypes: float64(2), int64(1), object(4)\n",
      "memory usage: 295.7+ MB\n"
     ]
    }
   ],
   "source": [
    "cal.info()"
   ]
  },
  {
   "cell_type": "markdown",
   "id": "24b2b095",
   "metadata": {},
   "source": [
    "# 3. Change Data Type"
   ]
  },
  {
   "cell_type": "code",
   "execution_count": 7,
   "id": "9699a69c",
   "metadata": {},
   "outputs": [],
   "source": [
    "# change listing_id to string\n",
    "cal['listing_id'] = cal['listing_id'].astype('str')"
   ]
  },
  {
   "cell_type": "code",
   "execution_count": 19,
   "id": "02b3ace5",
   "metadata": {},
   "outputs": [],
   "source": [
    "# Remove the $ from the price data\n",
    "def clean_currency(x):\n",
    "    \"\"\" If the value is a string, then remove currency symbol and delimiters\n",
    "    otherwise, the value is numeric and can be converted\n",
    "    \"\"\"\n",
    "    if isinstance(x, str):\n",
    "        return(x.replace('$', '').replace(',', ''))\n",
    "    return(x)"
   ]
  },
  {
   "cell_type": "code",
   "execution_count": 20,
   "id": "1c5d7f84",
   "metadata": {},
   "outputs": [],
   "source": [
    "# adjust price data type to float\n",
    "cal['price'] = cal['price'].apply(clean_currency).astype('float')"
   ]
  },
  {
   "cell_type": "code",
   "execution_count": 22,
   "id": "7ad18c12",
   "metadata": {},
   "outputs": [],
   "source": [
    "# adjust adjusted_price data type to float\n",
    "cal['adjusted_price'] = cal['adjusted_price'].apply(clean_currency).astype('float')"
   ]
  },
  {
   "cell_type": "code",
   "execution_count": 23,
   "id": "a8cc7661",
   "metadata": {},
   "outputs": [
    {
     "name": "stdout",
     "output_type": "stream",
     "text": [
      "<class 'pandas.core.frame.DataFrame'>\n",
      "RangeIndex: 5537417 entries, 0 to 5537416\n",
      "Data columns (total 7 columns):\n",
      " #   Column          Dtype  \n",
      "---  ------          -----  \n",
      " 0   listing_id      object \n",
      " 1   date            object \n",
      " 2   available       object \n",
      " 3   price           float64\n",
      " 4   adjusted_price  float64\n",
      " 5   minimum_nights  float64\n",
      " 6   maximum_nights  float64\n",
      "dtypes: float64(4), object(3)\n",
      "memory usage: 295.7+ MB\n"
     ]
    }
   ],
   "source": [
    "cal.info()"
   ]
  },
  {
   "cell_type": "code",
   "execution_count": 30,
   "id": "d7feb962",
   "metadata": {},
   "outputs": [
    {
     "data": {
      "text/plain": [
       "listing_id        0\n",
       "date              0\n",
       "available         0\n",
       "price             2\n",
       "adjusted_price    2\n",
       "minimum_nights    2\n",
       "maximum_nights    2\n",
       "dtype: int64"
      ]
     },
     "execution_count": 30,
     "metadata": {},
     "output_type": "execute_result"
    }
   ],
   "source": [
    "# find null values\n",
    "cal.isnull().sum()"
   ]
  },
  {
   "cell_type": "code",
   "execution_count": 33,
   "id": "3eb0eb56",
   "metadata": {},
   "outputs": [],
   "source": [
    "# change null/Nan values to 0\n",
    "cal['price'] = cal['price'].fillna(0)"
   ]
  },
  {
   "cell_type": "code",
   "execution_count": 34,
   "id": "ddb49e9e",
   "metadata": {},
   "outputs": [],
   "source": [
    "cal['adjusted_price'] = cal['adjusted_price'].fillna(0)"
   ]
  },
  {
   "cell_type": "code",
   "execution_count": 37,
   "id": "acf761dc",
   "metadata": {},
   "outputs": [],
   "source": [
    "cal['minimum_nights'] = cal['minimum_nights'].fillna(0)"
   ]
  },
  {
   "cell_type": "code",
   "execution_count": 38,
   "id": "16e236f6",
   "metadata": {},
   "outputs": [],
   "source": [
    "cal['maximum_nights'] = cal['maximum_nights'].fillna(0)"
   ]
  },
  {
   "cell_type": "code",
   "execution_count": 39,
   "id": "0fc5565f",
   "metadata": {},
   "outputs": [],
   "source": [
    "cal = cal.astype({\"price\":'int64',\"adjusted_price\":'int64',\"minimum_nights\":'int64',\"maximum_nights\":'int64'})"
   ]
  },
  {
   "cell_type": "code",
   "execution_count": 42,
   "id": "d6a12d3d",
   "metadata": {},
   "outputs": [
    {
     "name": "stdout",
     "output_type": "stream",
     "text": [
      "<class 'pandas.core.frame.DataFrame'>\n",
      "RangeIndex: 5537417 entries, 0 to 5537416\n",
      "Data columns (total 7 columns):\n",
      " #   Column          Dtype \n",
      "---  ------          ----- \n",
      " 0   listing_id      object\n",
      " 1   date            object\n",
      " 2   available       object\n",
      " 3   price           int64 \n",
      " 4   adjusted_price  int64 \n",
      " 5   minimum_nights  int64 \n",
      " 6   maximum_nights  int64 \n",
      "dtypes: int64(4), object(3)\n",
      "memory usage: 295.7+ MB\n"
     ]
    }
   ],
   "source": [
    "# Confirm data type change\n",
    "cal.info()"
   ]
  },
  {
   "cell_type": "markdown",
   "id": "1bfe8df2",
   "metadata": {},
   "source": [
    "# 4. Check for Duplicates"
   ]
  },
  {
   "cell_type": "code",
   "execution_count": 43,
   "id": "216b9ef7",
   "metadata": {},
   "outputs": [],
   "source": [
    "# Find duplicates\n",
    "cal_dups = cal[cal.duplicated()]"
   ]
  },
  {
   "cell_type": "code",
   "execution_count": 44,
   "id": "378cd2e5",
   "metadata": {},
   "outputs": [
    {
     "data": {
      "text/html": [
       "<div>\n",
       "<style scoped>\n",
       "    .dataframe tbody tr th:only-of-type {\n",
       "        vertical-align: middle;\n",
       "    }\n",
       "\n",
       "    .dataframe tbody tr th {\n",
       "        vertical-align: top;\n",
       "    }\n",
       "\n",
       "    .dataframe thead th {\n",
       "        text-align: right;\n",
       "    }\n",
       "</style>\n",
       "<table border=\"1\" class=\"dataframe\">\n",
       "  <thead>\n",
       "    <tr style=\"text-align: right;\">\n",
       "      <th></th>\n",
       "      <th>listing_id</th>\n",
       "      <th>date</th>\n",
       "      <th>available</th>\n",
       "      <th>price</th>\n",
       "      <th>adjusted_price</th>\n",
       "      <th>minimum_nights</th>\n",
       "      <th>maximum_nights</th>\n",
       "    </tr>\n",
       "  </thead>\n",
       "  <tbody>\n",
       "  </tbody>\n",
       "</table>\n",
       "</div>"
      ],
      "text/plain": [
       "Empty DataFrame\n",
       "Columns: [listing_id, date, available, price, adjusted_price, minimum_nights, maximum_nights]\n",
       "Index: []"
      ]
     },
     "execution_count": 44,
     "metadata": {},
     "output_type": "execute_result"
    }
   ],
   "source": [
    "cal_dups"
   ]
  },
  {
   "cell_type": "markdown",
   "id": "87643aa0",
   "metadata": {},
   "source": [
    "# 5. Histogram Price"
   ]
  },
  {
   "cell_type": "code",
   "execution_count": 46,
   "id": "ea7103dc",
   "metadata": {},
   "outputs": [
    {
     "data": {
      "image/png": "[encoded data removed]",
      "text/plain": [
       "<Figure size 432x288 with 1 Axes>"
      ]
     },
     "metadata": {
      "needs_background": "light"
     },
     "output_type": "display_data"
    }
   ],
   "source": [
    "hist_price = cal['price'].plot.hist(bins=100)"
   ]
  },
  {
   "cell_type": "code",
   "execution_count": 47,
   "id": "ff464594",
   "metadata": {},
   "outputs": [
    {
     "data": {
      "text/html": [
       "<div>\n",
       "<style scoped>\n",
       "    .dataframe tbody tr th:only-of-type {\n",
       "        vertical-align: middle;\n",
       "    }\n",
       "\n",
       "    .dataframe tbody tr th {\n",
       "        vertical-align: top;\n",
       "    }\n",
       "\n",
       "    .dataframe thead th {\n",
       "        text-align: right;\n",
       "    }\n",
       "</style>\n",
       "<table border=\"1\" class=\"dataframe\">\n",
       "  <thead>\n",
       "    <tr style=\"text-align: right;\">\n",
       "      <th></th>\n",
       "      <th>listing_id</th>\n",
       "      <th>date</th>\n",
       "      <th>available</th>\n",
       "      <th>price</th>\n",
       "      <th>adjusted_price</th>\n",
       "      <th>minimum_nights</th>\n",
       "      <th>maximum_nights</th>\n",
       "    </tr>\n",
       "  </thead>\n",
       "  <tbody>\n",
       "    <tr>\n",
       "      <th>651160</th>\n",
       "      <td>16039481</td>\n",
       "      <td>2022-06-06</td>\n",
       "      <td>f</td>\n",
       "      <td>12591</td>\n",
       "      <td>12591</td>\n",
       "      <td>28</td>\n",
       "      <td>1125</td>\n",
       "    </tr>\n",
       "    <tr>\n",
       "      <th>651161</th>\n",
       "      <td>16039481</td>\n",
       "      <td>2022-06-07</td>\n",
       "      <td>f</td>\n",
       "      <td>12591</td>\n",
       "      <td>12591</td>\n",
       "      <td>28</td>\n",
       "      <td>1125</td>\n",
       "    </tr>\n",
       "    <tr>\n",
       "      <th>651162</th>\n",
       "      <td>16039481</td>\n",
       "      <td>2022-06-08</td>\n",
       "      <td>f</td>\n",
       "      <td>12591</td>\n",
       "      <td>12591</td>\n",
       "      <td>28</td>\n",
       "      <td>1125</td>\n",
       "    </tr>\n",
       "    <tr>\n",
       "      <th>651163</th>\n",
       "      <td>16039481</td>\n",
       "      <td>2022-06-09</td>\n",
       "      <td>f</td>\n",
       "      <td>12591</td>\n",
       "      <td>12591</td>\n",
       "      <td>28</td>\n",
       "      <td>1125</td>\n",
       "    </tr>\n",
       "    <tr>\n",
       "      <th>651164</th>\n",
       "      <td>16039481</td>\n",
       "      <td>2022-06-10</td>\n",
       "      <td>f</td>\n",
       "      <td>12591</td>\n",
       "      <td>12591</td>\n",
       "      <td>28</td>\n",
       "      <td>1125</td>\n",
       "    </tr>\n",
       "    <tr>\n",
       "      <th>...</th>\n",
       "      <td>...</td>\n",
       "      <td>...</td>\n",
       "      <td>...</td>\n",
       "      <td>...</td>\n",
       "      <td>...</td>\n",
       "      <td>...</td>\n",
       "      <td>...</td>\n",
       "    </tr>\n",
       "    <tr>\n",
       "      <th>4888436</th>\n",
       "      <td>629586015519809653</td>\n",
       "      <td>2023-05-26</td>\n",
       "      <td>t</td>\n",
       "      <td>7987</td>\n",
       "      <td>7987</td>\n",
       "      <td>30</td>\n",
       "      <td>365</td>\n",
       "    </tr>\n",
       "    <tr>\n",
       "      <th>4888437</th>\n",
       "      <td>629586015519809653</td>\n",
       "      <td>2023-05-27</td>\n",
       "      <td>t</td>\n",
       "      <td>7987</td>\n",
       "      <td>7987</td>\n",
       "      <td>30</td>\n",
       "      <td>365</td>\n",
       "    </tr>\n",
       "    <tr>\n",
       "      <th>4888443</th>\n",
       "      <td>629586015519809653</td>\n",
       "      <td>2023-06-02</td>\n",
       "      <td>t</td>\n",
       "      <td>7987</td>\n",
       "      <td>7987</td>\n",
       "      <td>30</td>\n",
       "      <td>365</td>\n",
       "    </tr>\n",
       "    <tr>\n",
       "      <th>4888444</th>\n",
       "      <td>629586015519809653</td>\n",
       "      <td>2023-06-03</td>\n",
       "      <td>t</td>\n",
       "      <td>7987</td>\n",
       "      <td>7987</td>\n",
       "      <td>30</td>\n",
       "      <td>365</td>\n",
       "    </tr>\n",
       "    <tr>\n",
       "      <th>4888445</th>\n",
       "      <td>629586015519809653</td>\n",
       "      <td>2023-06-04</td>\n",
       "      <td>t</td>\n",
       "      <td>7987</td>\n",
       "      <td>7987</td>\n",
       "      <td>30</td>\n",
       "      <td>365</td>\n",
       "    </tr>\n",
       "  </tbody>\n",
       "</table>\n",
       "<p>2663 rows × 7 columns</p>\n",
       "</div>"
      ],
      "text/plain": [
       "                 listing_id        date available  price  adjusted_price  \\\n",
       "651160             16039481  2022-06-06         f  12591           12591   \n",
       "651161             16039481  2022-06-07         f  12591           12591   \n",
       "651162             16039481  2022-06-08         f  12591           12591   \n",
       "651163             16039481  2022-06-09         f  12591           12591   \n",
       "651164             16039481  2022-06-10         f  12591           12591   \n",
       "...                     ...         ...       ...    ...             ...   \n",
       "4888436  629586015519809653  2023-05-26         t   7987            7987   \n",
       "4888437  629586015519809653  2023-05-27         t   7987            7987   \n",
       "4888443  629586015519809653  2023-06-02         t   7987            7987   \n",
       "4888444  629586015519809653  2023-06-03         t   7987            7987   \n",
       "4888445  629586015519809653  2023-06-04         t   7987            7987   \n",
       "\n",
       "         minimum_nights  maximum_nights  \n",
       "651160               28            1125  \n",
       "651161               28            1125  \n",
       "651162               28            1125  \n",
       "651163               28            1125  \n",
       "651164               28            1125  \n",
       "...                 ...             ...  \n",
       "4888436              30             365  \n",
       "4888437              30             365  \n",
       "4888443              30             365  \n",
       "4888444              30             365  \n",
       "4888445              30             365  \n",
       "\n",
       "[2663 rows x 7 columns]"
      ]
     },
     "execution_count": 47,
     "metadata": {},
     "output_type": "execute_result"
    }
   ],
   "source": [
    "# check for prices over $7000\n",
    "cal.loc[cal['price'] > 7000]"
   ]
  },
  {
   "cell_type": "code",
   "execution_count": 48,
   "id": "63099fdc",
   "metadata": {},
   "outputs": [],
   "source": [
    "# Mark prices over $7000 as Nan\n",
    "cal.loc[cal['price'] > 7000, 'price'] = np.nan"
   ]
  },
  {
   "cell_type": "code",
   "execution_count": 49,
   "id": "57d4c8c8",
   "metadata": {},
   "outputs": [
    {
     "data": {
      "text/plain": [
       "7000.0"
      ]
     },
     "execution_count": 49,
     "metadata": {},
     "output_type": "execute_result"
    }
   ],
   "source": [
    "cal['price'].max()"
   ]
  },
  {
   "cell_type": "markdown",
   "id": "eaedd489",
   "metadata": {},
   "source": [
    "# 6. Historgram - Adjusted Price"
   ]
  },
  {
   "cell_type": "code",
   "execution_count": 51,
   "id": "20ec18d2",
   "metadata": {},
   "outputs": [
    {
     "data": {
      "image/png": "[encoded data removed]",
      "text/plain": [
       "<Figure size 432x288 with 1 Axes>"
      ]
     },
     "metadata": {
      "needs_background": "light"
     },
     "output_type": "display_data"
    }
   ],
   "source": [
    "hist_aprice = cal['adjusted_price'].plot.hist(bins=100)"
   ]
  },
  {
   "cell_type": "code",
   "execution_count": 52,
   "id": "99cf6f2a",
   "metadata": {},
   "outputs": [],
   "source": [
    "# Mark prices over $7000 as Nan\n",
    "cal.loc[cal['adjusted_price'] > 7000, 'adjusted_price'] = np.nan"
   ]
  },
  {
   "cell_type": "code",
   "execution_count": 53,
   "id": "74d1e36b",
   "metadata": {},
   "outputs": [
    {
     "data": {
      "text/plain": [
       "7000.0"
      ]
     },
     "execution_count": 53,
     "metadata": {},
     "output_type": "execute_result"
    }
   ],
   "source": [
    "cal['adjusted_price'].max()"
   ]
  },
  {
   "cell_type": "markdown",
   "id": "27fa47d8",
   "metadata": {},
   "source": [
    "# 7. Histogram - Minimum_nights"
   ]
  },
  {
   "cell_type": "code",
   "execution_count": 54,
   "id": "78f8fbc1",
   "metadata": {},
   "outputs": [
    {
     "data": {
      "image/png": "[encoded data removed]",
      "text/plain": [
       "<Figure size 432x288 with 1 Axes>"
      ]
     },
     "metadata": {
      "needs_background": "light"
     },
     "output_type": "display_data"
    }
   ],
   "source": [
    "hist_min = cal['minimum_nights'].plot.hist(bins=100)"
   ]
  },
  {
   "cell_type": "code",
   "execution_count": 56,
   "id": "475b7ceb",
   "metadata": {},
   "outputs": [],
   "source": [
    "# Mark nights over 90 as NaN\n",
    "cal.loc[cal['minimum_nights'] > 90, 'minimum_nights'] = np.nan"
   ]
  },
  {
   "cell_type": "code",
   "execution_count": 57,
   "id": "27c42fc2",
   "metadata": {},
   "outputs": [
    {
     "data": {
      "image/png": "[encoded data removed]",
      "text/plain": [
       "<Figure size 432x288 with 1 Axes>"
      ]
     },
     "metadata": {
      "needs_background": "light"
     },
     "output_type": "display_data"
    }
   ],
   "source": [
    "hist_min2 = cal['minimum_nights'].plot.hist(bins=100)"
   ]
  },
  {
   "cell_type": "markdown",
   "id": "9f1a7387",
   "metadata": {},
   "source": [
    "# 8. Histogram - Max Nights"
   ]
  },
  {
   "cell_type": "code",
   "execution_count": 61,
   "id": "5de4616e",
   "metadata": {},
   "outputs": [
    {
     "data": {
      "image/png": "[encoded data removed]",
      "text/plain": [
       "<Figure size 432x288 with 1 Axes>"
      ]
     },
     "metadata": {
      "needs_background": "light"
     },
     "output_type": "display_data"
    }
   ],
   "source": [
    "hist_max = cal['maximum_nights'].plot.hist(bins=5)"
   ]
  },
  {
   "cell_type": "code",
   "execution_count": 62,
   "id": "66fd9697",
   "metadata": {},
   "outputs": [
    {
     "data": {
      "text/plain": [
       "2147483647"
      ]
     },
     "execution_count": 62,
     "metadata": {},
     "output_type": "execute_result"
    }
   ],
   "source": [
    "cal['maximum_nights'].max()"
   ]
  },
  {
   "cell_type": "code",
   "execution_count": 63,
   "id": "64523eef",
   "metadata": {},
   "outputs": [],
   "source": [
    "# Mark nights over 90 as NaN\n",
    "cal.loc[cal['maximum_nights'] > 90, 'maximum_nights'] = np.nan"
   ]
  },
  {
   "cell_type": "code",
   "execution_count": 64,
   "id": "edfab51e",
   "metadata": {},
   "outputs": [
    {
     "data": {
      "text/plain": [
       "90.0"
      ]
     },
     "execution_count": 64,
     "metadata": {},
     "output_type": "execute_result"
    }
   ],
   "source": [
    "cal['maximum_nights'].max()"
   ]
  },
  {
   "cell_type": "code",
   "execution_count": 65,
   "id": "6247d156",
   "metadata": {},
   "outputs": [
    {
     "data": {
      "image/png": "[encoded data removed]",
      "text/plain": [
       "<Figure size 432x288 with 1 Axes>"
      ]
     },
     "metadata": {
      "needs_background": "light"
     },
     "output_type": "display_data"
    }
   ],
   "source": [
    "hist_max2 = cal['maximum_nights'].plot.hist(bins=5)"
   ]
  },
  {
   "cell_type": "markdown",
   "id": "ec676354",
   "metadata": {},
   "source": [
    "# 9. Descriptive Analysis"
   ]
  },
  {
   "cell_type": "code",
   "execution_count": 66,
   "id": "d1de6c06",
   "metadata": {},
   "outputs": [
    {
     "data": {
      "text/html": [
       "<div>\n",
       "<style scoped>\n",
       "    .dataframe tbody tr th:only-of-type {\n",
       "        vertical-align: middle;\n",
       "    }\n",
       "\n",
       "    .dataframe tbody tr th {\n",
       "        vertical-align: top;\n",
       "    }\n",
       "\n",
       "    .dataframe thead th {\n",
       "        text-align: right;\n",
       "    }\n",
       "</style>\n",
       "<table border=\"1\" class=\"dataframe\">\n",
       "  <thead>\n",
       "    <tr style=\"text-align: right;\">\n",
       "      <th></th>\n",
       "      <th>price</th>\n",
       "      <th>adjusted_price</th>\n",
       "      <th>minimum_nights</th>\n",
       "      <th>maximum_nights</th>\n",
       "    </tr>\n",
       "  </thead>\n",
       "  <tbody>\n",
       "    <tr>\n",
       "      <th>count</th>\n",
       "      <td>5.534754e+06</td>\n",
       "      <td>5.534754e+06</td>\n",
       "      <td>5.412488e+06</td>\n",
       "      <td>855288.000000</td>\n",
       "    </tr>\n",
       "    <tr>\n",
       "      <th>mean</th>\n",
       "      <td>1.800694e+02</td>\n",
       "      <td>1.796826e+02</td>\n",
       "      <td>2.111493e+01</td>\n",
       "      <td>44.328651</td>\n",
       "    </tr>\n",
       "    <tr>\n",
       "      <th>std</th>\n",
       "      <td>2.235867e+02</td>\n",
       "      <td>2.230948e+02</td>\n",
       "      <td>1.468759e+01</td>\n",
       "      <td>24.971267</td>\n",
       "    </tr>\n",
       "    <tr>\n",
       "      <th>min</th>\n",
       "      <td>0.000000e+00</td>\n",
       "      <td>0.000000e+00</td>\n",
       "      <td>0.000000e+00</td>\n",
       "      <td>0.000000</td>\n",
       "    </tr>\n",
       "    <tr>\n",
       "      <th>25%</th>\n",
       "      <td>7.800000e+01</td>\n",
       "      <td>7.800000e+01</td>\n",
       "      <td>3.000000e+00</td>\n",
       "      <td>28.000000</td>\n",
       "    </tr>\n",
       "    <tr>\n",
       "      <th>50%</th>\n",
       "      <td>1.200000e+02</td>\n",
       "      <td>1.200000e+02</td>\n",
       "      <td>2.800000e+01</td>\n",
       "      <td>31.000000</td>\n",
       "    </tr>\n",
       "    <tr>\n",
       "      <th>75%</th>\n",
       "      <td>2.000000e+02</td>\n",
       "      <td>2.000000e+02</td>\n",
       "      <td>2.800000e+01</td>\n",
       "      <td>60.000000</td>\n",
       "    </tr>\n",
       "    <tr>\n",
       "      <th>max</th>\n",
       "      <td>7.000000e+03</td>\n",
       "      <td>7.000000e+03</td>\n",
       "      <td>9.000000e+01</td>\n",
       "      <td>90.000000</td>\n",
       "    </tr>\n",
       "  </tbody>\n",
       "</table>\n",
       "</div>"
      ],
      "text/plain": [
       "              price  adjusted_price  minimum_nights  maximum_nights\n",
       "count  5.534754e+06    5.534754e+06    5.412488e+06   855288.000000\n",
       "mean   1.800694e+02    1.796826e+02    2.111493e+01       44.328651\n",
       "std    2.235867e+02    2.230948e+02    1.468759e+01       24.971267\n",
       "min    0.000000e+00    0.000000e+00    0.000000e+00        0.000000\n",
       "25%    7.800000e+01    7.800000e+01    3.000000e+00       28.000000\n",
       "50%    1.200000e+02    1.200000e+02    2.800000e+01       31.000000\n",
       "75%    2.000000e+02    2.000000e+02    2.800000e+01       60.000000\n",
       "max    7.000000e+03    7.000000e+03    9.000000e+01       90.000000"
      ]
     },
     "execution_count": 66,
     "metadata": {},
     "output_type": "execute_result"
    }
   ],
   "source": [
    "cal.describe()"
   ]
  },
  {
   "cell_type": "markdown",
   "id": "2ef57485",
   "metadata": {},
   "source": [
    "# 10. Export"
   ]
  },
  {
   "cell_type": "code",
   "execution_count": 67,
   "id": "1f5ed72f",
   "metadata": {},
   "outputs": [],
   "source": [
    "cal.to_pickle(os.path.join(path,'02 Data','Prepared Data','Calendar_Clean.pkl'))"
   ]
  },
  {
   "cell_type": "code",
   "execution_count": null,
   "id": "3e71c733",
   "metadata": {},
   "outputs": [],
   "source": []
  }
 ],
 "metadata": {
  "kernelspec": {
   "display_name": "Python 3 (ipykernel)",
   "language": "python",
   "name": "python3"
  },
  "language_info": {
   "codemirror_mode": {
    "name": "ipython",
    "version": 3
   },
   "file_extension": ".py",
   "mimetype": "text/x-python",
   "name": "python",
   "nbconvert_exporter": "python",
   "pygments_lexer": "ipython3",
   "version": "3.9.12"
  }
 },
 "nbformat": 4,
 "nbformat_minor": 5
}
