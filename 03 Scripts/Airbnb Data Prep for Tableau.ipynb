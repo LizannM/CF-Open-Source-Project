{
 "cells": [
  {
   "cell_type": "markdown",
   "id": "8319f612",
   "metadata": {},
   "source": [
    "# Airbnb Data Prep for Tableau"
   ]
  },
  {
   "cell_type": "markdown",
   "id": "2477b6db",
   "metadata": {},
   "source": [
    "1. Import libraries and Combined Data\n",
    "2. Clean and Wrange Data\n",
    "3. Export dataset"
   ]
  },
  {
   "cell_type": "markdown",
   "id": "a6fb4eb4",
   "metadata": {},
   "source": [
    "## 1. Import libraries and Combined Data Set"
   ]
  },
  {
   "cell_type": "code",
   "execution_count": 9,
   "id": "dd94f2ed",
   "metadata": {},
   "outputs": [],
   "source": [
    "# Import Libraries\n",
    "import pandas as pd\n",
    "import numpy as np\n",
    "import os\n",
    "import matplotlib.pyplot as plt\n",
    "import seaborn as sns\n",
    "import scipy"
   ]
  },
  {
   "cell_type": "code",
   "execution_count": 10,
   "id": "4e1c59db",
   "metadata": {},
   "outputs": [],
   "source": [
    "path = r'C:\\Users\\lizan\\Desktop\\Data Analytics\\07-22 Airbnb Toronto Analysis'"
   ]
  },
  {
   "cell_type": "code",
   "execution_count": 12,
   "id": "5fd3dd73",
   "metadata": {},
   "outputs": [],
   "source": [
    "df = pd.read_pickle(os.path.join(path,'02 Data', 'Prepared Data', 'Listings_Calendar_Combined.pkl'))"
   ]
  },
  {
   "cell_type": "code",
   "execution_count": 13,
   "id": "f8f806db",
   "metadata": {},
   "outputs": [
    {
     "data": {
      "text/plain": [
       "(5537417, 25)"
      ]
     },
     "execution_count": 13,
     "metadata": {},
     "output_type": "execute_result"
    }
   ],
   "source": [
    "df.shape"
   ]
  },
  {
   "cell_type": "code",
   "execution_count": 15,
   "id": "6d2ac78b",
   "metadata": {},
   "outputs": [
    {
     "data": {
      "text/plain": [
       "Index(['Unnamed: 0', 'listing_id', 'name', 'host_id', 'host_name',\n",
       "       'neighbourhood', 'latitude', 'longitude', 'room_type', 'price_x',\n",
       "       'minimum_nights_x', 'number_of_reviews', 'last_review',\n",
       "       'reviews_per_month', 'calculated_host_listings_count',\n",
       "       'availability_365', 'number_of_reviews_ltm', 'license', 'date',\n",
       "       'available', 'price_y', 'adjusted_price', 'minimum_nights_y',\n",
       "       'maximum_nights', '_merge'],\n",
       "      dtype='object')"
      ]
     },
     "execution_count": 15,
     "metadata": {},
     "output_type": "execute_result"
    }
   ],
   "source": [
    "df.columns"
   ]
  },
  {
   "cell_type": "code",
   "execution_count": 17,
   "id": "ddcc5869",
   "metadata": {},
   "outputs": [
    {
     "data": {
      "text/html": [
       "<div>\n",
       "<style scoped>\n",
       "    .dataframe tbody tr th:only-of-type {\n",
       "        vertical-align: middle;\n",
       "    }\n",
       "\n",
       "    .dataframe tbody tr th {\n",
       "        vertical-align: top;\n",
       "    }\n",
       "\n",
       "    .dataframe thead th {\n",
       "        text-align: right;\n",
       "    }\n",
       "</style>\n",
       "<table border=\"1\" class=\"dataframe\">\n",
       "  <thead>\n",
       "    <tr style=\"text-align: right;\">\n",
       "      <th></th>\n",
       "      <th>Unnamed: 0</th>\n",
       "      <th>listing_id</th>\n",
       "      <th>name</th>\n",
       "      <th>host_id</th>\n",
       "      <th>host_name</th>\n",
       "      <th>neighbourhood</th>\n",
       "      <th>latitude</th>\n",
       "      <th>longitude</th>\n",
       "      <th>room_type</th>\n",
       "      <th>price_x</th>\n",
       "      <th>...</th>\n",
       "      <th>availability_365</th>\n",
       "      <th>number_of_reviews_ltm</th>\n",
       "      <th>license</th>\n",
       "      <th>date</th>\n",
       "      <th>available</th>\n",
       "      <th>price_y</th>\n",
       "      <th>adjusted_price</th>\n",
       "      <th>minimum_nights_y</th>\n",
       "      <th>maximum_nights</th>\n",
       "      <th>_merge</th>\n",
       "    </tr>\n",
       "  </thead>\n",
       "  <tbody>\n",
       "    <tr>\n",
       "      <th>0</th>\n",
       "      <td>0</td>\n",
       "      <td>1419</td>\n",
       "      <td>Beautiful home in amazing area!</td>\n",
       "      <td>1565</td>\n",
       "      <td>Alexandra</td>\n",
       "      <td>Little Portugal</td>\n",
       "      <td>43.6459</td>\n",
       "      <td>-79.42423</td>\n",
       "      <td>Entire home/apt</td>\n",
       "      <td>469.0</td>\n",
       "      <td>...</td>\n",
       "      <td>0</td>\n",
       "      <td>0</td>\n",
       "      <td>NaN</td>\n",
       "      <td>2022-06-06</td>\n",
       "      <td>f</td>\n",
       "      <td>469.0</td>\n",
       "      <td>469.0</td>\n",
       "      <td>28.0</td>\n",
       "      <td>NaN</td>\n",
       "      <td>both</td>\n",
       "    </tr>\n",
       "    <tr>\n",
       "      <th>1</th>\n",
       "      <td>0</td>\n",
       "      <td>1419</td>\n",
       "      <td>Beautiful home in amazing area!</td>\n",
       "      <td>1565</td>\n",
       "      <td>Alexandra</td>\n",
       "      <td>Little Portugal</td>\n",
       "      <td>43.6459</td>\n",
       "      <td>-79.42423</td>\n",
       "      <td>Entire home/apt</td>\n",
       "      <td>469.0</td>\n",
       "      <td>...</td>\n",
       "      <td>0</td>\n",
       "      <td>0</td>\n",
       "      <td>NaN</td>\n",
       "      <td>2022-06-07</td>\n",
       "      <td>f</td>\n",
       "      <td>469.0</td>\n",
       "      <td>469.0</td>\n",
       "      <td>28.0</td>\n",
       "      <td>NaN</td>\n",
       "      <td>both</td>\n",
       "    </tr>\n",
       "    <tr>\n",
       "      <th>2</th>\n",
       "      <td>0</td>\n",
       "      <td>1419</td>\n",
       "      <td>Beautiful home in amazing area!</td>\n",
       "      <td>1565</td>\n",
       "      <td>Alexandra</td>\n",
       "      <td>Little Portugal</td>\n",
       "      <td>43.6459</td>\n",
       "      <td>-79.42423</td>\n",
       "      <td>Entire home/apt</td>\n",
       "      <td>469.0</td>\n",
       "      <td>...</td>\n",
       "      <td>0</td>\n",
       "      <td>0</td>\n",
       "      <td>NaN</td>\n",
       "      <td>2022-06-08</td>\n",
       "      <td>f</td>\n",
       "      <td>469.0</td>\n",
       "      <td>469.0</td>\n",
       "      <td>28.0</td>\n",
       "      <td>NaN</td>\n",
       "      <td>both</td>\n",
       "    </tr>\n",
       "    <tr>\n",
       "      <th>3</th>\n",
       "      <td>0</td>\n",
       "      <td>1419</td>\n",
       "      <td>Beautiful home in amazing area!</td>\n",
       "      <td>1565</td>\n",
       "      <td>Alexandra</td>\n",
       "      <td>Little Portugal</td>\n",
       "      <td>43.6459</td>\n",
       "      <td>-79.42423</td>\n",
       "      <td>Entire home/apt</td>\n",
       "      <td>469.0</td>\n",
       "      <td>...</td>\n",
       "      <td>0</td>\n",
       "      <td>0</td>\n",
       "      <td>NaN</td>\n",
       "      <td>2022-06-09</td>\n",
       "      <td>f</td>\n",
       "      <td>469.0</td>\n",
       "      <td>469.0</td>\n",
       "      <td>28.0</td>\n",
       "      <td>NaN</td>\n",
       "      <td>both</td>\n",
       "    </tr>\n",
       "    <tr>\n",
       "      <th>4</th>\n",
       "      <td>0</td>\n",
       "      <td>1419</td>\n",
       "      <td>Beautiful home in amazing area!</td>\n",
       "      <td>1565</td>\n",
       "      <td>Alexandra</td>\n",
       "      <td>Little Portugal</td>\n",
       "      <td>43.6459</td>\n",
       "      <td>-79.42423</td>\n",
       "      <td>Entire home/apt</td>\n",
       "      <td>469.0</td>\n",
       "      <td>...</td>\n",
       "      <td>0</td>\n",
       "      <td>0</td>\n",
       "      <td>NaN</td>\n",
       "      <td>2022-06-10</td>\n",
       "      <td>f</td>\n",
       "      <td>469.0</td>\n",
       "      <td>469.0</td>\n",
       "      <td>28.0</td>\n",
       "      <td>NaN</td>\n",
       "      <td>both</td>\n",
       "    </tr>\n",
       "  </tbody>\n",
       "</table>\n",
       "<p>5 rows × 25 columns</p>\n",
       "</div>"
      ],
      "text/plain": [
       "   Unnamed: 0 listing_id                             name  host_id  host_name  \\\n",
       "0           0       1419  Beautiful home in amazing area!     1565  Alexandra   \n",
       "1           0       1419  Beautiful home in amazing area!     1565  Alexandra   \n",
       "2           0       1419  Beautiful home in amazing area!     1565  Alexandra   \n",
       "3           0       1419  Beautiful home in amazing area!     1565  Alexandra   \n",
       "4           0       1419  Beautiful home in amazing area!     1565  Alexandra   \n",
       "\n",
       "     neighbourhood  latitude  longitude        room_type  price_x  ...  \\\n",
       "0  Little Portugal   43.6459  -79.42423  Entire home/apt    469.0  ...   \n",
       "1  Little Portugal   43.6459  -79.42423  Entire home/apt    469.0  ...   \n",
       "2  Little Portugal   43.6459  -79.42423  Entire home/apt    469.0  ...   \n",
       "3  Little Portugal   43.6459  -79.42423  Entire home/apt    469.0  ...   \n",
       "4  Little Portugal   43.6459  -79.42423  Entire home/apt    469.0  ...   \n",
       "\n",
       "   availability_365  number_of_reviews_ltm license        date  available  \\\n",
       "0                 0                      0     NaN  2022-06-06          f   \n",
       "1                 0                      0     NaN  2022-06-07          f   \n",
       "2                 0                      0     NaN  2022-06-08          f   \n",
       "3                 0                      0     NaN  2022-06-09          f   \n",
       "4                 0                      0     NaN  2022-06-10          f   \n",
       "\n",
       "   price_y  adjusted_price minimum_nights_y maximum_nights _merge  \n",
       "0    469.0           469.0             28.0            NaN   both  \n",
       "1    469.0           469.0             28.0            NaN   both  \n",
       "2    469.0           469.0             28.0            NaN   both  \n",
       "3    469.0           469.0             28.0            NaN   both  \n",
       "4    469.0           469.0             28.0            NaN   both  \n",
       "\n",
       "[5 rows x 25 columns]"
      ]
     },
     "execution_count": 17,
     "metadata": {},
     "output_type": "execute_result"
    }
   ],
   "source": [
    "df.head()"
   ]
  },
  {
   "cell_type": "code",
   "execution_count": 18,
   "id": "647a278e",
   "metadata": {},
   "outputs": [
    {
     "name": "stdout",
     "output_type": "stream",
     "text": [
      "<class 'pandas.core.frame.DataFrame'>\n",
      "Int64Index: 5537417 entries, 0 to 5537416\n",
      "Data columns (total 25 columns):\n",
      " #   Column                          Dtype   \n",
      "---  ------                          -----   \n",
      " 0   Unnamed: 0                      int64   \n",
      " 1   listing_id                      object  \n",
      " 2   name                            object  \n",
      " 3   host_id                         int64   \n",
      " 4   host_name                       object  \n",
      " 5   neighbourhood                   object  \n",
      " 6   latitude                        float64 \n",
      " 7   longitude                       float64 \n",
      " 8   room_type                       object  \n",
      " 9   price_x                         float64 \n",
      " 10  minimum_nights_x                float64 \n",
      " 11  number_of_reviews               int64   \n",
      " 12  last_review                     object  \n",
      " 13  reviews_per_month               float64 \n",
      " 14  calculated_host_listings_count  int64   \n",
      " 15  availability_365                int64   \n",
      " 16  number_of_reviews_ltm           int64   \n",
      " 17  license                         object  \n",
      " 18  date                            object  \n",
      " 19  available                       object  \n",
      " 20  price_y                         float64 \n",
      " 21  adjusted_price                  float64 \n",
      " 22  minimum_nights_y                float64 \n",
      " 23  maximum_nights                  float64 \n",
      " 24  _merge                          category\n",
      "dtypes: category(1), float64(9), int64(6), object(9)\n",
      "memory usage: 1.0+ GB\n"
     ]
    }
   ],
   "source": [
    "df.info()"
   ]
  },
  {
   "cell_type": "markdown",
   "id": "96aaae4a",
   "metadata": {},
   "source": [
    "## 2. Clean and Wrangle Data"
   ]
  },
  {
   "cell_type": "code",
   "execution_count": 19,
   "id": "ad1dfc0c",
   "metadata": {},
   "outputs": [],
   "source": [
    "# removed Unnamed column\n",
    "df.drop(columns = ['Unnamed: 0'], inplace=True)"
   ]
  },
  {
   "cell_type": "code",
   "execution_count": 20,
   "id": "2728331e",
   "metadata": {},
   "outputs": [],
   "source": [
    "# Change host id to object\n",
    "df['hos_id'] = df['host_id'].astype('str')"
   ]
  },
  {
   "cell_type": "code",
   "execution_count": 21,
   "id": "f5017fb1",
   "metadata": {},
   "outputs": [],
   "source": [
    "# rename price_x to list price\n",
    "df.rename(columns = {'price_x':'list_price'}, inplace=True)"
   ]
  },
  {
   "cell_type": "code",
   "execution_count": 23,
   "id": "3edfc0be",
   "metadata": {},
   "outputs": [
    {
     "data": {
      "text/plain": [
       "listing_id                              0\n",
       "name                                  730\n",
       "host_id                                 0\n",
       "host_name                            1095\n",
       "neighbourhood                           0\n",
       "latitude                                0\n",
       "longitude                               0\n",
       "room_type                               0\n",
       "list_price                           2190\n",
       "minimum_nights_x                   121910\n",
       "number_of_reviews                       0\n",
       "last_review                       1176395\n",
       "reviews_per_month                 1176395\n",
       "calculated_host_listings_count          0\n",
       "availability_365                        0\n",
       "number_of_reviews_ltm                   0\n",
       "license                           3458375\n",
       "date                                    0\n",
       "available                               0\n",
       "price_y                              2663\n",
       "adjusted_price                       2663\n",
       "minimum_nights_y                   124929\n",
       "maximum_nights                    4682129\n",
       "_merge                                  0\n",
       "hos_id                                  0\n",
       "dtype: int64"
      ]
     },
     "execution_count": 23,
     "metadata": {},
     "output_type": "execute_result"
    }
   ],
   "source": [
    "# Check for missing values\n",
    "df.isnull().sum()"
   ]
  },
  {
   "cell_type": "code",
   "execution_count": 24,
   "id": "dac461b5",
   "metadata": {},
   "outputs": [],
   "source": [
    "# removed minimum_nights_y column as it is a dupilcated variable\n",
    "df.drop(columns = ['minimum_nights_y'], inplace=True)"
   ]
  },
  {
   "cell_type": "code",
   "execution_count": 25,
   "id": "88ad07ad",
   "metadata": {},
   "outputs": [],
   "source": [
    "# rename minimum_nights_x to minimum_nights\n",
    "df.rename(columns = {'minimum_nights_x':'minimum_nights'}, inplace=True)"
   ]
  },
  {
   "cell_type": "code",
   "execution_count": 26,
   "id": "77a7e0cb",
   "metadata": {},
   "outputs": [],
   "source": [
    "# removed price_y column as it is a dupilcated variable\n",
    "df.drop(columns = ['price_y'], inplace=True)"
   ]
  },
  {
   "cell_type": "code",
   "execution_count": 27,
   "id": "57ea9fdc",
   "metadata": {},
   "outputs": [],
   "source": [
    "# rename minimum_nights_x to minimum_nights\n",
    "df.rename(columns = {'adjusted_price':'booked_price'}, inplace=True)"
   ]
  },
  {
   "cell_type": "code",
   "execution_count": 28,
   "id": "a3b575ac",
   "metadata": {},
   "outputs": [],
   "source": [
    "# removed merge colume\n",
    "df.drop(columns = ['_merge'], inplace=True)"
   ]
  },
  {
   "cell_type": "code",
   "execution_count": 29,
   "id": "b55ab85e",
   "metadata": {},
   "outputs": [
    {
     "data": {
      "text/html": [
       "<div>\n",
       "<style scoped>\n",
       "    .dataframe tbody tr th:only-of-type {\n",
       "        vertical-align: middle;\n",
       "    }\n",
       "\n",
       "    .dataframe tbody tr th {\n",
       "        vertical-align: top;\n",
       "    }\n",
       "\n",
       "    .dataframe thead th {\n",
       "        text-align: right;\n",
       "    }\n",
       "</style>\n",
       "<table border=\"1\" class=\"dataframe\">\n",
       "  <thead>\n",
       "    <tr style=\"text-align: right;\">\n",
       "      <th></th>\n",
       "      <th>host_id</th>\n",
       "      <th>latitude</th>\n",
       "      <th>longitude</th>\n",
       "      <th>list_price</th>\n",
       "      <th>minimum_nights</th>\n",
       "      <th>number_of_reviews</th>\n",
       "      <th>reviews_per_month</th>\n",
       "      <th>calculated_host_listings_count</th>\n",
       "      <th>availability_365</th>\n",
       "      <th>number_of_reviews_ltm</th>\n",
       "      <th>booked_price</th>\n",
       "      <th>maximum_nights</th>\n",
       "    </tr>\n",
       "  </thead>\n",
       "  <tbody>\n",
       "    <tr>\n",
       "      <th>count</th>\n",
       "      <td>5.537417e+06</td>\n",
       "      <td>5.537417e+06</td>\n",
       "      <td>5.537417e+06</td>\n",
       "      <td>5.535227e+06</td>\n",
       "      <td>5.415507e+06</td>\n",
       "      <td>5.537417e+06</td>\n",
       "      <td>4.361022e+06</td>\n",
       "      <td>5.537417e+06</td>\n",
       "      <td>5.537417e+06</td>\n",
       "      <td>5.537417e+06</td>\n",
       "      <td>5.534754e+06</td>\n",
       "      <td>855288.000000</td>\n",
       "    </tr>\n",
       "    <tr>\n",
       "      <th>mean</th>\n",
       "      <td>1.331611e+08</td>\n",
       "      <td>4.368371e+01</td>\n",
       "      <td>-7.939789e+01</td>\n",
       "      <td>1.739809e+02</td>\n",
       "      <td>2.101900e+01</td>\n",
       "      <td>2.718442e+01</td>\n",
       "      <td>1.216132e+00</td>\n",
       "      <td>5.799946e+00</td>\n",
       "      <td>1.220657e+02</td>\n",
       "      <td>6.280615e+00</td>\n",
       "      <td>1.796826e+02</td>\n",
       "      <td>44.328651</td>\n",
       "    </tr>\n",
       "    <tr>\n",
       "      <th>std</th>\n",
       "      <td>1.301217e+08</td>\n",
       "      <td>5.125070e-02</td>\n",
       "      <td>6.875846e-02</td>\n",
       "      <td>2.134418e+02</td>\n",
       "      <td>1.465067e+01</td>\n",
       "      <td>5.495694e+01</td>\n",
       "      <td>1.673120e+00</td>\n",
       "      <td>1.686908e+01</td>\n",
       "      <td>1.265706e+02</td>\n",
       "      <td>1.462906e+01</td>\n",
       "      <td>2.230948e+02</td>\n",
       "      <td>24.971267</td>\n",
       "    </tr>\n",
       "    <tr>\n",
       "      <th>min</th>\n",
       "      <td>1.565000e+03</td>\n",
       "      <td>4.357381e+01</td>\n",
       "      <td>-7.965365e+01</td>\n",
       "      <td>0.000000e+00</td>\n",
       "      <td>1.000000e+00</td>\n",
       "      <td>0.000000e+00</td>\n",
       "      <td>1.000000e-02</td>\n",
       "      <td>1.000000e+00</td>\n",
       "      <td>0.000000e+00</td>\n",
       "      <td>0.000000e+00</td>\n",
       "      <td>0.000000e+00</td>\n",
       "      <td>0.000000</td>\n",
       "    </tr>\n",
       "    <tr>\n",
       "      <th>25%</th>\n",
       "      <td>2.296288e+07</td>\n",
       "      <td>4.364585e+01</td>\n",
       "      <td>-7.942646e+01</td>\n",
       "      <td>7.500000e+01</td>\n",
       "      <td>3.000000e+00</td>\n",
       "      <td>1.000000e+00</td>\n",
       "      <td>1.700000e-01</td>\n",
       "      <td>1.000000e+00</td>\n",
       "      <td>0.000000e+00</td>\n",
       "      <td>0.000000e+00</td>\n",
       "      <td>7.800000e+01</td>\n",
       "      <td>28.000000</td>\n",
       "    </tr>\n",
       "    <tr>\n",
       "      <th>50%</th>\n",
       "      <td>8.695886e+07</td>\n",
       "      <td>4.366372e+01</td>\n",
       "      <td>-7.939684e+01</td>\n",
       "      <td>1.200000e+02</td>\n",
       "      <td>2.800000e+01</td>\n",
       "      <td>6.000000e+00</td>\n",
       "      <td>5.500000e-01</td>\n",
       "      <td>1.000000e+00</td>\n",
       "      <td>7.700000e+01</td>\n",
       "      <td>0.000000e+00</td>\n",
       "      <td>1.200000e+02</td>\n",
       "      <td>31.000000</td>\n",
       "    </tr>\n",
       "    <tr>\n",
       "      <th>75%</th>\n",
       "      <td>2.222455e+08</td>\n",
       "      <td>4.370793e+01</td>\n",
       "      <td>-7.937597e+01</td>\n",
       "      <td>2.000000e+02</td>\n",
       "      <td>2.800000e+01</td>\n",
       "      <td>2.700000e+01</td>\n",
       "      <td>1.560000e+00</td>\n",
       "      <td>4.000000e+00</td>\n",
       "      <td>2.420000e+02</td>\n",
       "      <td>5.000000e+00</td>\n",
       "      <td>2.000000e+02</td>\n",
       "      <td>60.000000</td>\n",
       "    </tr>\n",
       "    <tr>\n",
       "      <th>max</th>\n",
       "      <td>4.619506e+08</td>\n",
       "      <td>4.386071e+01</td>\n",
       "      <td>-7.910220e+01</td>\n",
       "      <td>6.848000e+03</td>\n",
       "      <td>9.000000e+01</td>\n",
       "      <td>8.280000e+02</td>\n",
       "      <td>1.500000e+01</td>\n",
       "      <td>1.510000e+02</td>\n",
       "      <td>3.650000e+02</td>\n",
       "      <td>1.650000e+02</td>\n",
       "      <td>7.000000e+03</td>\n",
       "      <td>90.000000</td>\n",
       "    </tr>\n",
       "  </tbody>\n",
       "</table>\n",
       "</div>"
      ],
      "text/plain": [
       "            host_id      latitude     longitude    list_price  minimum_nights  \\\n",
       "count  5.537417e+06  5.537417e+06  5.537417e+06  5.535227e+06    5.415507e+06   \n",
       "mean   1.331611e+08  4.368371e+01 -7.939789e+01  1.739809e+02    2.101900e+01   \n",
       "std    1.301217e+08  5.125070e-02  6.875846e-02  2.134418e+02    1.465067e+01   \n",
       "min    1.565000e+03  4.357381e+01 -7.965365e+01  0.000000e+00    1.000000e+00   \n",
       "25%    2.296288e+07  4.364585e+01 -7.942646e+01  7.500000e+01    3.000000e+00   \n",
       "50%    8.695886e+07  4.366372e+01 -7.939684e+01  1.200000e+02    2.800000e+01   \n",
       "75%    2.222455e+08  4.370793e+01 -7.937597e+01  2.000000e+02    2.800000e+01   \n",
       "max    4.619506e+08  4.386071e+01 -7.910220e+01  6.848000e+03    9.000000e+01   \n",
       "\n",
       "       number_of_reviews  reviews_per_month  calculated_host_listings_count  \\\n",
       "count       5.537417e+06       4.361022e+06                    5.537417e+06   \n",
       "mean        2.718442e+01       1.216132e+00                    5.799946e+00   \n",
       "std         5.495694e+01       1.673120e+00                    1.686908e+01   \n",
       "min         0.000000e+00       1.000000e-02                    1.000000e+00   \n",
       "25%         1.000000e+00       1.700000e-01                    1.000000e+00   \n",
       "50%         6.000000e+00       5.500000e-01                    1.000000e+00   \n",
       "75%         2.700000e+01       1.560000e+00                    4.000000e+00   \n",
       "max         8.280000e+02       1.500000e+01                    1.510000e+02   \n",
       "\n",
       "       availability_365  number_of_reviews_ltm  booked_price  maximum_nights  \n",
       "count      5.537417e+06           5.537417e+06  5.534754e+06   855288.000000  \n",
       "mean       1.220657e+02           6.280615e+00  1.796826e+02       44.328651  \n",
       "std        1.265706e+02           1.462906e+01  2.230948e+02       24.971267  \n",
       "min        0.000000e+00           0.000000e+00  0.000000e+00        0.000000  \n",
       "25%        0.000000e+00           0.000000e+00  7.800000e+01       28.000000  \n",
       "50%        7.700000e+01           0.000000e+00  1.200000e+02       31.000000  \n",
       "75%        2.420000e+02           5.000000e+00  2.000000e+02       60.000000  \n",
       "max        3.650000e+02           1.650000e+02  7.000000e+03       90.000000  "
      ]
     },
     "execution_count": 29,
     "metadata": {},
     "output_type": "execute_result"
    }
   ],
   "source": [
    "df.describe()"
   ]
  },
  {
   "cell_type": "code",
   "execution_count": 32,
   "id": "e8850d8b",
   "metadata": {},
   "outputs": [
    {
     "data": {
      "text/plain": [
       "7000.0"
      ]
     },
     "execution_count": 32,
     "metadata": {},
     "output_type": "execute_result"
    }
   ],
   "source": [
    "df['booked_price'].max()"
   ]
  },
  {
   "cell_type": "code",
   "execution_count": 33,
   "id": "3545824c",
   "metadata": {},
   "outputs": [],
   "source": [
    "df.to_pickle(os.path.join(path,'02 Data','Prepared Data','Airbnb_Combined.pkl'))"
   ]
  },
  {
   "cell_type": "code",
   "execution_count": 34,
   "id": "8bcc9baa",
   "metadata": {},
   "outputs": [],
   "source": [
    "df.to_csv(os.path.join(path,'02 Data','Prepared Data','Airbnb_Combined.csv'))"
   ]
  }
 ],
 "metadata": {
  "kernelspec": {
   "display_name": "Python 3 (ipykernel)",
   "language": "python",
   "name": "python3"
  },
  "language_info": {
   "codemirror_mode": {
    "name": "ipython",
    "version": 3
   },
   "file_extension": ".py",
   "mimetype": "text/x-python",
   "name": "python",
   "nbconvert_exporter": "python",
   "pygments_lexer": "ipython3",
   "version": "3.9.12"
  }
 },
 "nbformat": 4,
 "nbformat_minor": 5
}
