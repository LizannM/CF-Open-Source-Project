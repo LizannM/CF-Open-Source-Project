{
 "cells": [
  {
   "cell_type": "markdown",
   "id": "c852a9e4",
   "metadata": {},
   "source": [
    "# Airbnb Machine Learning Regression Analysis"
   ]
  },
  {
   "cell_type": "markdown",
   "id": "eba90918",
   "metadata": {},
   "source": [
    "1. Import libraries and data\n",
    "2. Data Cleaning\n",
    "3. Data Prep for Regression Analysis\n",
    "4. Regression Analysis\n",
    "Bonus: Performance improvement after removing outliers"
   ]
  },
  {
   "cell_type": "markdown",
   "id": "7206e04a",
   "metadata": {},
   "source": [
    "# 1. Importing Libraries and Data"
   ]
  },
  {
   "cell_type": "code",
   "execution_count": 1,
   "id": "0542b51c",
   "metadata": {},
   "outputs": [],
   "source": [
    "import pandas as pd\n",
    "import numpy as np\n",
    "import seaborn as sns\n",
    "import matplotlib\n",
    "import matplotlib.pyplot as plt\n",
    "import os\n",
    "import sklearn\n",
    "from sklearn.model_selection import train_test_split \n",
    "from sklearn.linear_model import LinearRegression\n",
    "from sklearn.metrics import mean_squared_error, r2_score"
   ]
  },
  {
   "cell_type": "code",
   "execution_count": 2,
   "id": "f81af7c4",
   "metadata": {},
   "outputs": [],
   "source": [
    "# This option ensures that the graphs you create are displayed within the notebook without the need to \"call\" them specifically.\n",
    "\n",
    "%matplotlib inline"
   ]
  },
  {
   "cell_type": "code",
   "execution_count": 3,
   "id": "5939ec3e",
   "metadata": {},
   "outputs": [],
   "source": [
    "path = r'C:\\Users\\lizan\\Desktop\\Data Analytics\\07-22 Airbnb Toronto Analysis'"
   ]
  },
  {
   "cell_type": "code",
   "execution_count": 4,
   "id": "f40b1428",
   "metadata": {},
   "outputs": [],
   "source": [
    "bnb = pd.read_pickle(os.path.join(path,'02 Data', 'Prepared Data', 'Listings_Calendar_Combined.pkl'))"
   ]
  },
  {
   "cell_type": "code",
   "execution_count": 5,
   "id": "57ea975e",
   "metadata": {},
   "outputs": [
    {
     "data": {
      "text/plain": [
       "(5537417, 25)"
      ]
     },
     "execution_count": 5,
     "metadata": {},
     "output_type": "execute_result"
    }
   ],
   "source": [
    "bnb.shape"
   ]
  },
  {
   "cell_type": "markdown",
   "id": "a8bb53cc",
   "metadata": {},
   "source": [
    "# 2. Data Cleaning"
   ]
  },
  {
   "cell_type": "code",
   "execution_count": 6,
   "id": "db25eb38",
   "metadata": {},
   "outputs": [
    {
     "data": {
      "text/plain": [
       "Index(['Unnamed: 0', 'listing_id', 'name', 'host_id', 'host_name',\n",
       "       'neighbourhood', 'latitude', 'longitude', 'room_type', 'price_x',\n",
       "       'minimum_nights_x', 'number_of_reviews', 'last_review',\n",
       "       'reviews_per_month', 'calculated_host_listings_count',\n",
       "       'availability_365', 'number_of_reviews_ltm', 'license', 'date',\n",
       "       'available', 'price_y', 'adjusted_price', 'minimum_nights_y',\n",
       "       'maximum_nights', '_merge'],\n",
       "      dtype='object')"
      ]
     },
     "execution_count": 6,
     "metadata": {},
     "output_type": "execute_result"
    }
   ],
   "source": [
    "bnb.columns"
   ]
  },
  {
   "cell_type": "code",
   "execution_count": 7,
   "id": "e387d8f2",
   "metadata": {},
   "outputs": [
    {
     "data": {
      "text/html": [
       "<div>\n",
       "<style scoped>\n",
       "    .dataframe tbody tr th:only-of-type {\n",
       "        vertical-align: middle;\n",
       "    }\n",
       "\n",
       "    .dataframe tbody tr th {\n",
       "        vertical-align: top;\n",
       "    }\n",
       "\n",
       "    .dataframe thead th {\n",
       "        text-align: right;\n",
       "    }\n",
       "</style>\n",
       "<table border=\"1\" class=\"dataframe\">\n",
       "  <thead>\n",
       "    <tr style=\"text-align: right;\">\n",
       "      <th></th>\n",
       "      <th>Unnamed: 0</th>\n",
       "      <th>listing_id</th>\n",
       "      <th>name</th>\n",
       "      <th>host_id</th>\n",
       "      <th>host_name</th>\n",
       "      <th>neighbourhood</th>\n",
       "      <th>latitude</th>\n",
       "      <th>longitude</th>\n",
       "      <th>room_type</th>\n",
       "      <th>price_x</th>\n",
       "      <th>...</th>\n",
       "      <th>availability_365</th>\n",
       "      <th>number_of_reviews_ltm</th>\n",
       "      <th>license</th>\n",
       "      <th>date</th>\n",
       "      <th>available</th>\n",
       "      <th>price_y</th>\n",
       "      <th>adjusted_price</th>\n",
       "      <th>minimum_nights_y</th>\n",
       "      <th>maximum_nights</th>\n",
       "      <th>_merge</th>\n",
       "    </tr>\n",
       "  </thead>\n",
       "  <tbody>\n",
       "    <tr>\n",
       "      <th>0</th>\n",
       "      <td>0</td>\n",
       "      <td>1419</td>\n",
       "      <td>Beautiful home in amazing area!</td>\n",
       "      <td>1565</td>\n",
       "      <td>Alexandra</td>\n",
       "      <td>Little Portugal</td>\n",
       "      <td>43.6459</td>\n",
       "      <td>-79.42423</td>\n",
       "      <td>Entire home/apt</td>\n",
       "      <td>469.0</td>\n",
       "      <td>...</td>\n",
       "      <td>0</td>\n",
       "      <td>0</td>\n",
       "      <td>NaN</td>\n",
       "      <td>2022-06-06</td>\n",
       "      <td>f</td>\n",
       "      <td>469.0</td>\n",
       "      <td>469.0</td>\n",
       "      <td>28.0</td>\n",
       "      <td>NaN</td>\n",
       "      <td>both</td>\n",
       "    </tr>\n",
       "    <tr>\n",
       "      <th>1</th>\n",
       "      <td>0</td>\n",
       "      <td>1419</td>\n",
       "      <td>Beautiful home in amazing area!</td>\n",
       "      <td>1565</td>\n",
       "      <td>Alexandra</td>\n",
       "      <td>Little Portugal</td>\n",
       "      <td>43.6459</td>\n",
       "      <td>-79.42423</td>\n",
       "      <td>Entire home/apt</td>\n",
       "      <td>469.0</td>\n",
       "      <td>...</td>\n",
       "      <td>0</td>\n",
       "      <td>0</td>\n",
       "      <td>NaN</td>\n",
       "      <td>2022-06-07</td>\n",
       "      <td>f</td>\n",
       "      <td>469.0</td>\n",
       "      <td>469.0</td>\n",
       "      <td>28.0</td>\n",
       "      <td>NaN</td>\n",
       "      <td>both</td>\n",
       "    </tr>\n",
       "    <tr>\n",
       "      <th>2</th>\n",
       "      <td>0</td>\n",
       "      <td>1419</td>\n",
       "      <td>Beautiful home in amazing area!</td>\n",
       "      <td>1565</td>\n",
       "      <td>Alexandra</td>\n",
       "      <td>Little Portugal</td>\n",
       "      <td>43.6459</td>\n",
       "      <td>-79.42423</td>\n",
       "      <td>Entire home/apt</td>\n",
       "      <td>469.0</td>\n",
       "      <td>...</td>\n",
       "      <td>0</td>\n",
       "      <td>0</td>\n",
       "      <td>NaN</td>\n",
       "      <td>2022-06-08</td>\n",
       "      <td>f</td>\n",
       "      <td>469.0</td>\n",
       "      <td>469.0</td>\n",
       "      <td>28.0</td>\n",
       "      <td>NaN</td>\n",
       "      <td>both</td>\n",
       "    </tr>\n",
       "    <tr>\n",
       "      <th>3</th>\n",
       "      <td>0</td>\n",
       "      <td>1419</td>\n",
       "      <td>Beautiful home in amazing area!</td>\n",
       "      <td>1565</td>\n",
       "      <td>Alexandra</td>\n",
       "      <td>Little Portugal</td>\n",
       "      <td>43.6459</td>\n",
       "      <td>-79.42423</td>\n",
       "      <td>Entire home/apt</td>\n",
       "      <td>469.0</td>\n",
       "      <td>...</td>\n",
       "      <td>0</td>\n",
       "      <td>0</td>\n",
       "      <td>NaN</td>\n",
       "      <td>2022-06-09</td>\n",
       "      <td>f</td>\n",
       "      <td>469.0</td>\n",
       "      <td>469.0</td>\n",
       "      <td>28.0</td>\n",
       "      <td>NaN</td>\n",
       "      <td>both</td>\n",
       "    </tr>\n",
       "    <tr>\n",
       "      <th>4</th>\n",
       "      <td>0</td>\n",
       "      <td>1419</td>\n",
       "      <td>Beautiful home in amazing area!</td>\n",
       "      <td>1565</td>\n",
       "      <td>Alexandra</td>\n",
       "      <td>Little Portugal</td>\n",
       "      <td>43.6459</td>\n",
       "      <td>-79.42423</td>\n",
       "      <td>Entire home/apt</td>\n",
       "      <td>469.0</td>\n",
       "      <td>...</td>\n",
       "      <td>0</td>\n",
       "      <td>0</td>\n",
       "      <td>NaN</td>\n",
       "      <td>2022-06-10</td>\n",
       "      <td>f</td>\n",
       "      <td>469.0</td>\n",
       "      <td>469.0</td>\n",
       "      <td>28.0</td>\n",
       "      <td>NaN</td>\n",
       "      <td>both</td>\n",
       "    </tr>\n",
       "  </tbody>\n",
       "</table>\n",
       "<p>5 rows × 25 columns</p>\n",
       "</div>"
      ],
      "text/plain": [
       "   Unnamed: 0 listing_id                             name  host_id  host_name  \\\n",
       "0           0       1419  Beautiful home in amazing area!     1565  Alexandra   \n",
       "1           0       1419  Beautiful home in amazing area!     1565  Alexandra   \n",
       "2           0       1419  Beautiful home in amazing area!     1565  Alexandra   \n",
       "3           0       1419  Beautiful home in amazing area!     1565  Alexandra   \n",
       "4           0       1419  Beautiful home in amazing area!     1565  Alexandra   \n",
       "\n",
       "     neighbourhood  latitude  longitude        room_type  price_x  ...  \\\n",
       "0  Little Portugal   43.6459  -79.42423  Entire home/apt    469.0  ...   \n",
       "1  Little Portugal   43.6459  -79.42423  Entire home/apt    469.0  ...   \n",
       "2  Little Portugal   43.6459  -79.42423  Entire home/apt    469.0  ...   \n",
       "3  Little Portugal   43.6459  -79.42423  Entire home/apt    469.0  ...   \n",
       "4  Little Portugal   43.6459  -79.42423  Entire home/apt    469.0  ...   \n",
       "\n",
       "   availability_365  number_of_reviews_ltm license        date  available  \\\n",
       "0                 0                      0     NaN  2022-06-06          f   \n",
       "1                 0                      0     NaN  2022-06-07          f   \n",
       "2                 0                      0     NaN  2022-06-08          f   \n",
       "3                 0                      0     NaN  2022-06-09          f   \n",
       "4                 0                      0     NaN  2022-06-10          f   \n",
       "\n",
       "   price_y  adjusted_price minimum_nights_y maximum_nights _merge  \n",
       "0    469.0           469.0             28.0            NaN   both  \n",
       "1    469.0           469.0             28.0            NaN   both  \n",
       "2    469.0           469.0             28.0            NaN   both  \n",
       "3    469.0           469.0             28.0            NaN   both  \n",
       "4    469.0           469.0             28.0            NaN   both  \n",
       "\n",
       "[5 rows x 25 columns]"
      ]
     },
     "execution_count": 7,
     "metadata": {},
     "output_type": "execute_result"
    }
   ],
   "source": [
    "bnb.head()"
   ]
  },
  {
   "cell_type": "code",
   "execution_count": 8,
   "id": "6bc9b382",
   "metadata": {},
   "outputs": [
    {
     "data": {
      "text/html": [
       "<div>\n",
       "<style scoped>\n",
       "    .dataframe tbody tr th:only-of-type {\n",
       "        vertical-align: middle;\n",
       "    }\n",
       "\n",
       "    .dataframe tbody tr th {\n",
       "        vertical-align: top;\n",
       "    }\n",
       "\n",
       "    .dataframe thead th {\n",
       "        text-align: right;\n",
       "    }\n",
       "</style>\n",
       "<table border=\"1\" class=\"dataframe\">\n",
       "  <thead>\n",
       "    <tr style=\"text-align: right;\">\n",
       "      <th></th>\n",
       "      <th>listing_id</th>\n",
       "      <th>name</th>\n",
       "      <th>host_id</th>\n",
       "      <th>host_name</th>\n",
       "      <th>neighbourhood</th>\n",
       "      <th>latitude</th>\n",
       "      <th>longitude</th>\n",
       "      <th>room_type</th>\n",
       "      <th>price_x</th>\n",
       "      <th>minimum_nights_x</th>\n",
       "      <th>...</th>\n",
       "      <th>availability_365</th>\n",
       "      <th>number_of_reviews_ltm</th>\n",
       "      <th>license</th>\n",
       "      <th>date</th>\n",
       "      <th>available</th>\n",
       "      <th>price_y</th>\n",
       "      <th>adjusted_price</th>\n",
       "      <th>minimum_nights_y</th>\n",
       "      <th>maximum_nights</th>\n",
       "      <th>_merge</th>\n",
       "    </tr>\n",
       "  </thead>\n",
       "  <tbody>\n",
       "    <tr>\n",
       "      <th>0</th>\n",
       "      <td>1419</td>\n",
       "      <td>Beautiful home in amazing area!</td>\n",
       "      <td>1565</td>\n",
       "      <td>Alexandra</td>\n",
       "      <td>Little Portugal</td>\n",
       "      <td>43.64590</td>\n",
       "      <td>-79.42423</td>\n",
       "      <td>Entire home/apt</td>\n",
       "      <td>469.0</td>\n",
       "      <td>28.0</td>\n",
       "      <td>...</td>\n",
       "      <td>0</td>\n",
       "      <td>0</td>\n",
       "      <td>NaN</td>\n",
       "      <td>2022-06-06</td>\n",
       "      <td>f</td>\n",
       "      <td>469.0</td>\n",
       "      <td>469.0</td>\n",
       "      <td>28.0</td>\n",
       "      <td>NaN</td>\n",
       "      <td>both</td>\n",
       "    </tr>\n",
       "    <tr>\n",
       "      <th>1</th>\n",
       "      <td>1419</td>\n",
       "      <td>Beautiful home in amazing area!</td>\n",
       "      <td>1565</td>\n",
       "      <td>Alexandra</td>\n",
       "      <td>Little Portugal</td>\n",
       "      <td>43.64590</td>\n",
       "      <td>-79.42423</td>\n",
       "      <td>Entire home/apt</td>\n",
       "      <td>469.0</td>\n",
       "      <td>28.0</td>\n",
       "      <td>...</td>\n",
       "      <td>0</td>\n",
       "      <td>0</td>\n",
       "      <td>NaN</td>\n",
       "      <td>2022-06-07</td>\n",
       "      <td>f</td>\n",
       "      <td>469.0</td>\n",
       "      <td>469.0</td>\n",
       "      <td>28.0</td>\n",
       "      <td>NaN</td>\n",
       "      <td>both</td>\n",
       "    </tr>\n",
       "    <tr>\n",
       "      <th>2</th>\n",
       "      <td>1419</td>\n",
       "      <td>Beautiful home in amazing area!</td>\n",
       "      <td>1565</td>\n",
       "      <td>Alexandra</td>\n",
       "      <td>Little Portugal</td>\n",
       "      <td>43.64590</td>\n",
       "      <td>-79.42423</td>\n",
       "      <td>Entire home/apt</td>\n",
       "      <td>469.0</td>\n",
       "      <td>28.0</td>\n",
       "      <td>...</td>\n",
       "      <td>0</td>\n",
       "      <td>0</td>\n",
       "      <td>NaN</td>\n",
       "      <td>2022-06-08</td>\n",
       "      <td>f</td>\n",
       "      <td>469.0</td>\n",
       "      <td>469.0</td>\n",
       "      <td>28.0</td>\n",
       "      <td>NaN</td>\n",
       "      <td>both</td>\n",
       "    </tr>\n",
       "    <tr>\n",
       "      <th>3</th>\n",
       "      <td>1419</td>\n",
       "      <td>Beautiful home in amazing area!</td>\n",
       "      <td>1565</td>\n",
       "      <td>Alexandra</td>\n",
       "      <td>Little Portugal</td>\n",
       "      <td>43.64590</td>\n",
       "      <td>-79.42423</td>\n",
       "      <td>Entire home/apt</td>\n",
       "      <td>469.0</td>\n",
       "      <td>28.0</td>\n",
       "      <td>...</td>\n",
       "      <td>0</td>\n",
       "      <td>0</td>\n",
       "      <td>NaN</td>\n",
       "      <td>2022-06-09</td>\n",
       "      <td>f</td>\n",
       "      <td>469.0</td>\n",
       "      <td>469.0</td>\n",
       "      <td>28.0</td>\n",
       "      <td>NaN</td>\n",
       "      <td>both</td>\n",
       "    </tr>\n",
       "    <tr>\n",
       "      <th>4</th>\n",
       "      <td>1419</td>\n",
       "      <td>Beautiful home in amazing area!</td>\n",
       "      <td>1565</td>\n",
       "      <td>Alexandra</td>\n",
       "      <td>Little Portugal</td>\n",
       "      <td>43.64590</td>\n",
       "      <td>-79.42423</td>\n",
       "      <td>Entire home/apt</td>\n",
       "      <td>469.0</td>\n",
       "      <td>28.0</td>\n",
       "      <td>...</td>\n",
       "      <td>0</td>\n",
       "      <td>0</td>\n",
       "      <td>NaN</td>\n",
       "      <td>2022-06-10</td>\n",
       "      <td>f</td>\n",
       "      <td>469.0</td>\n",
       "      <td>469.0</td>\n",
       "      <td>28.0</td>\n",
       "      <td>NaN</td>\n",
       "      <td>both</td>\n",
       "    </tr>\n",
       "    <tr>\n",
       "      <th>...</th>\n",
       "      <td>...</td>\n",
       "      <td>...</td>\n",
       "      <td>...</td>\n",
       "      <td>...</td>\n",
       "      <td>...</td>\n",
       "      <td>...</td>\n",
       "      <td>...</td>\n",
       "      <td>...</td>\n",
       "      <td>...</td>\n",
       "      <td>...</td>\n",
       "      <td>...</td>\n",
       "      <td>...</td>\n",
       "      <td>...</td>\n",
       "      <td>...</td>\n",
       "      <td>...</td>\n",
       "      <td>...</td>\n",
       "      <td>...</td>\n",
       "      <td>...</td>\n",
       "      <td>...</td>\n",
       "      <td>...</td>\n",
       "      <td>...</td>\n",
       "    </tr>\n",
       "    <tr>\n",
       "      <th>5537412</th>\n",
       "      <td>40719607</td>\n",
       "      <td>Modern Guest Suite Near Steeles and Yonge</td>\n",
       "      <td>316011180</td>\n",
       "      <td>Shijin</td>\n",
       "      <td>Newtonbrook West</td>\n",
       "      <td>43.79784</td>\n",
       "      <td>-79.43334</td>\n",
       "      <td>Entire home/apt</td>\n",
       "      <td>108.0</td>\n",
       "      <td>1.0</td>\n",
       "      <td>...</td>\n",
       "      <td>81</td>\n",
       "      <td>36</td>\n",
       "      <td>NaN</td>\n",
       "      <td>2023-05-31</td>\n",
       "      <td>f</td>\n",
       "      <td>108.0</td>\n",
       "      <td>108.0</td>\n",
       "      <td>1.0</td>\n",
       "      <td>30.0</td>\n",
       "      <td>both</td>\n",
       "    </tr>\n",
       "    <tr>\n",
       "      <th>5537413</th>\n",
       "      <td>40719607</td>\n",
       "      <td>Modern Guest Suite Near Steeles and Yonge</td>\n",
       "      <td>316011180</td>\n",
       "      <td>Shijin</td>\n",
       "      <td>Newtonbrook West</td>\n",
       "      <td>43.79784</td>\n",
       "      <td>-79.43334</td>\n",
       "      <td>Entire home/apt</td>\n",
       "      <td>108.0</td>\n",
       "      <td>1.0</td>\n",
       "      <td>...</td>\n",
       "      <td>81</td>\n",
       "      <td>36</td>\n",
       "      <td>NaN</td>\n",
       "      <td>2023-06-01</td>\n",
       "      <td>f</td>\n",
       "      <td>108.0</td>\n",
       "      <td>108.0</td>\n",
       "      <td>1.0</td>\n",
       "      <td>30.0</td>\n",
       "      <td>both</td>\n",
       "    </tr>\n",
       "    <tr>\n",
       "      <th>5537414</th>\n",
       "      <td>40719607</td>\n",
       "      <td>Modern Guest Suite Near Steeles and Yonge</td>\n",
       "      <td>316011180</td>\n",
       "      <td>Shijin</td>\n",
       "      <td>Newtonbrook West</td>\n",
       "      <td>43.79784</td>\n",
       "      <td>-79.43334</td>\n",
       "      <td>Entire home/apt</td>\n",
       "      <td>108.0</td>\n",
       "      <td>1.0</td>\n",
       "      <td>...</td>\n",
       "      <td>81</td>\n",
       "      <td>36</td>\n",
       "      <td>NaN</td>\n",
       "      <td>2023-06-02</td>\n",
       "      <td>f</td>\n",
       "      <td>108.0</td>\n",
       "      <td>108.0</td>\n",
       "      <td>1.0</td>\n",
       "      <td>30.0</td>\n",
       "      <td>both</td>\n",
       "    </tr>\n",
       "    <tr>\n",
       "      <th>5537415</th>\n",
       "      <td>40719607</td>\n",
       "      <td>Modern Guest Suite Near Steeles and Yonge</td>\n",
       "      <td>316011180</td>\n",
       "      <td>Shijin</td>\n",
       "      <td>Newtonbrook West</td>\n",
       "      <td>43.79784</td>\n",
       "      <td>-79.43334</td>\n",
       "      <td>Entire home/apt</td>\n",
       "      <td>108.0</td>\n",
       "      <td>1.0</td>\n",
       "      <td>...</td>\n",
       "      <td>81</td>\n",
       "      <td>36</td>\n",
       "      <td>NaN</td>\n",
       "      <td>2023-06-03</td>\n",
       "      <td>f</td>\n",
       "      <td>108.0</td>\n",
       "      <td>108.0</td>\n",
       "      <td>1.0</td>\n",
       "      <td>30.0</td>\n",
       "      <td>both</td>\n",
       "    </tr>\n",
       "    <tr>\n",
       "      <th>5537416</th>\n",
       "      <td>40719607</td>\n",
       "      <td>Modern Guest Suite Near Steeles and Yonge</td>\n",
       "      <td>316011180</td>\n",
       "      <td>Shijin</td>\n",
       "      <td>Newtonbrook West</td>\n",
       "      <td>43.79784</td>\n",
       "      <td>-79.43334</td>\n",
       "      <td>Entire home/apt</td>\n",
       "      <td>108.0</td>\n",
       "      <td>1.0</td>\n",
       "      <td>...</td>\n",
       "      <td>81</td>\n",
       "      <td>36</td>\n",
       "      <td>NaN</td>\n",
       "      <td>2023-06-04</td>\n",
       "      <td>f</td>\n",
       "      <td>108.0</td>\n",
       "      <td>108.0</td>\n",
       "      <td>1.0</td>\n",
       "      <td>30.0</td>\n",
       "      <td>both</td>\n",
       "    </tr>\n",
       "  </tbody>\n",
       "</table>\n",
       "<p>5537417 rows × 24 columns</p>\n",
       "</div>"
      ],
      "text/plain": [
       "        listing_id                                       name    host_id  \\\n",
       "0             1419            Beautiful home in amazing area!       1565   \n",
       "1             1419            Beautiful home in amazing area!       1565   \n",
       "2             1419            Beautiful home in amazing area!       1565   \n",
       "3             1419            Beautiful home in amazing area!       1565   \n",
       "4             1419            Beautiful home in amazing area!       1565   \n",
       "...            ...                                        ...        ...   \n",
       "5537412   40719607  Modern Guest Suite Near Steeles and Yonge  316011180   \n",
       "5537413   40719607  Modern Guest Suite Near Steeles and Yonge  316011180   \n",
       "5537414   40719607  Modern Guest Suite Near Steeles and Yonge  316011180   \n",
       "5537415   40719607  Modern Guest Suite Near Steeles and Yonge  316011180   \n",
       "5537416   40719607  Modern Guest Suite Near Steeles and Yonge  316011180   \n",
       "\n",
       "         host_name     neighbourhood  latitude  longitude        room_type  \\\n",
       "0        Alexandra   Little Portugal  43.64590  -79.42423  Entire home/apt   \n",
       "1        Alexandra   Little Portugal  43.64590  -79.42423  Entire home/apt   \n",
       "2        Alexandra   Little Portugal  43.64590  -79.42423  Entire home/apt   \n",
       "3        Alexandra   Little Portugal  43.64590  -79.42423  Entire home/apt   \n",
       "4        Alexandra   Little Portugal  43.64590  -79.42423  Entire home/apt   \n",
       "...            ...               ...       ...        ...              ...   \n",
       "5537412     Shijin  Newtonbrook West  43.79784  -79.43334  Entire home/apt   \n",
       "5537413     Shijin  Newtonbrook West  43.79784  -79.43334  Entire home/apt   \n",
       "5537414     Shijin  Newtonbrook West  43.79784  -79.43334  Entire home/apt   \n",
       "5537415     Shijin  Newtonbrook West  43.79784  -79.43334  Entire home/apt   \n",
       "5537416     Shijin  Newtonbrook West  43.79784  -79.43334  Entire home/apt   \n",
       "\n",
       "         price_x  minimum_nights_x  ...  availability_365  \\\n",
       "0          469.0              28.0  ...                 0   \n",
       "1          469.0              28.0  ...                 0   \n",
       "2          469.0              28.0  ...                 0   \n",
       "3          469.0              28.0  ...                 0   \n",
       "4          469.0              28.0  ...                 0   \n",
       "...          ...               ...  ...               ...   \n",
       "5537412    108.0               1.0  ...                81   \n",
       "5537413    108.0               1.0  ...                81   \n",
       "5537414    108.0               1.0  ...                81   \n",
       "5537415    108.0               1.0  ...                81   \n",
       "5537416    108.0               1.0  ...                81   \n",
       "\n",
       "        number_of_reviews_ltm  license        date  available  price_y  \\\n",
       "0                           0      NaN  2022-06-06          f    469.0   \n",
       "1                           0      NaN  2022-06-07          f    469.0   \n",
       "2                           0      NaN  2022-06-08          f    469.0   \n",
       "3                           0      NaN  2022-06-09          f    469.0   \n",
       "4                           0      NaN  2022-06-10          f    469.0   \n",
       "...                       ...      ...         ...        ...      ...   \n",
       "5537412                    36      NaN  2023-05-31          f    108.0   \n",
       "5537413                    36      NaN  2023-06-01          f    108.0   \n",
       "5537414                    36      NaN  2023-06-02          f    108.0   \n",
       "5537415                    36      NaN  2023-06-03          f    108.0   \n",
       "5537416                    36      NaN  2023-06-04          f    108.0   \n",
       "\n",
       "        adjusted_price minimum_nights_y maximum_nights  _merge  \n",
       "0                469.0             28.0            NaN    both  \n",
       "1                469.0             28.0            NaN    both  \n",
       "2                469.0             28.0            NaN    both  \n",
       "3                469.0             28.0            NaN    both  \n",
       "4                469.0             28.0            NaN    both  \n",
       "...                ...              ...            ...     ...  \n",
       "5537412          108.0              1.0           30.0    both  \n",
       "5537413          108.0              1.0           30.0    both  \n",
       "5537414          108.0              1.0           30.0    both  \n",
       "5537415          108.0              1.0           30.0    both  \n",
       "5537416          108.0              1.0           30.0    both  \n",
       "\n",
       "[5537417 rows x 24 columns]"
      ]
     },
     "execution_count": 8,
     "metadata": {},
     "output_type": "execute_result"
    }
   ],
   "source": [
    "bnb.drop(columns=['Unnamed: 0'])"
   ]
  },
  {
   "cell_type": "code",
   "execution_count": 9,
   "id": "50160e52",
   "metadata": {},
   "outputs": [],
   "source": [
    "# rename price_x to list_price and price_y to booked_price\n",
    "bnb.rename(columns= {'price_x' : 'list_price', 'price_y' : 'booked_price'}, inplace = True)"
   ]
  },
  {
   "cell_type": "code",
   "execution_count": 10,
   "id": "dc411ce8",
   "metadata": {},
   "outputs": [
    {
     "data": {
      "text/html": [
       "<div>\n",
       "<style scoped>\n",
       "    .dataframe tbody tr th:only-of-type {\n",
       "        vertical-align: middle;\n",
       "    }\n",
       "\n",
       "    .dataframe tbody tr th {\n",
       "        vertical-align: top;\n",
       "    }\n",
       "\n",
       "    .dataframe thead th {\n",
       "        text-align: right;\n",
       "    }\n",
       "</style>\n",
       "<table border=\"1\" class=\"dataframe\">\n",
       "  <thead>\n",
       "    <tr style=\"text-align: right;\">\n",
       "      <th></th>\n",
       "      <th>Unnamed: 0</th>\n",
       "      <th>listing_id</th>\n",
       "      <th>name</th>\n",
       "      <th>host_id</th>\n",
       "      <th>host_name</th>\n",
       "      <th>neighbourhood</th>\n",
       "      <th>latitude</th>\n",
       "      <th>longitude</th>\n",
       "      <th>room_type</th>\n",
       "      <th>list_price</th>\n",
       "      <th>...</th>\n",
       "      <th>availability_365</th>\n",
       "      <th>number_of_reviews_ltm</th>\n",
       "      <th>license</th>\n",
       "      <th>date</th>\n",
       "      <th>available</th>\n",
       "      <th>booked_price</th>\n",
       "      <th>adjusted_price</th>\n",
       "      <th>minimum_nights_y</th>\n",
       "      <th>maximum_nights</th>\n",
       "      <th>_merge</th>\n",
       "    </tr>\n",
       "  </thead>\n",
       "  <tbody>\n",
       "    <tr>\n",
       "      <th>0</th>\n",
       "      <td>0</td>\n",
       "      <td>1419</td>\n",
       "      <td>Beautiful home in amazing area!</td>\n",
       "      <td>1565</td>\n",
       "      <td>Alexandra</td>\n",
       "      <td>Little Portugal</td>\n",
       "      <td>43.64590</td>\n",
       "      <td>-79.42423</td>\n",
       "      <td>Entire home/apt</td>\n",
       "      <td>469.0</td>\n",
       "      <td>...</td>\n",
       "      <td>0</td>\n",
       "      <td>0</td>\n",
       "      <td>NaN</td>\n",
       "      <td>2022-06-06</td>\n",
       "      <td>f</td>\n",
       "      <td>469.0</td>\n",
       "      <td>469.0</td>\n",
       "      <td>28.0</td>\n",
       "      <td>NaN</td>\n",
       "      <td>both</td>\n",
       "    </tr>\n",
       "    <tr>\n",
       "      <th>1</th>\n",
       "      <td>0</td>\n",
       "      <td>1419</td>\n",
       "      <td>Beautiful home in amazing area!</td>\n",
       "      <td>1565</td>\n",
       "      <td>Alexandra</td>\n",
       "      <td>Little Portugal</td>\n",
       "      <td>43.64590</td>\n",
       "      <td>-79.42423</td>\n",
       "      <td>Entire home/apt</td>\n",
       "      <td>469.0</td>\n",
       "      <td>...</td>\n",
       "      <td>0</td>\n",
       "      <td>0</td>\n",
       "      <td>NaN</td>\n",
       "      <td>2022-06-07</td>\n",
       "      <td>f</td>\n",
       "      <td>469.0</td>\n",
       "      <td>469.0</td>\n",
       "      <td>28.0</td>\n",
       "      <td>NaN</td>\n",
       "      <td>both</td>\n",
       "    </tr>\n",
       "    <tr>\n",
       "      <th>2</th>\n",
       "      <td>0</td>\n",
       "      <td>1419</td>\n",
       "      <td>Beautiful home in amazing area!</td>\n",
       "      <td>1565</td>\n",
       "      <td>Alexandra</td>\n",
       "      <td>Little Portugal</td>\n",
       "      <td>43.64590</td>\n",
       "      <td>-79.42423</td>\n",
       "      <td>Entire home/apt</td>\n",
       "      <td>469.0</td>\n",
       "      <td>...</td>\n",
       "      <td>0</td>\n",
       "      <td>0</td>\n",
       "      <td>NaN</td>\n",
       "      <td>2022-06-08</td>\n",
       "      <td>f</td>\n",
       "      <td>469.0</td>\n",
       "      <td>469.0</td>\n",
       "      <td>28.0</td>\n",
       "      <td>NaN</td>\n",
       "      <td>both</td>\n",
       "    </tr>\n",
       "    <tr>\n",
       "      <th>3</th>\n",
       "      <td>0</td>\n",
       "      <td>1419</td>\n",
       "      <td>Beautiful home in amazing area!</td>\n",
       "      <td>1565</td>\n",
       "      <td>Alexandra</td>\n",
       "      <td>Little Portugal</td>\n",
       "      <td>43.64590</td>\n",
       "      <td>-79.42423</td>\n",
       "      <td>Entire home/apt</td>\n",
       "      <td>469.0</td>\n",
       "      <td>...</td>\n",
       "      <td>0</td>\n",
       "      <td>0</td>\n",
       "      <td>NaN</td>\n",
       "      <td>2022-06-09</td>\n",
       "      <td>f</td>\n",
       "      <td>469.0</td>\n",
       "      <td>469.0</td>\n",
       "      <td>28.0</td>\n",
       "      <td>NaN</td>\n",
       "      <td>both</td>\n",
       "    </tr>\n",
       "    <tr>\n",
       "      <th>4</th>\n",
       "      <td>0</td>\n",
       "      <td>1419</td>\n",
       "      <td>Beautiful home in amazing area!</td>\n",
       "      <td>1565</td>\n",
       "      <td>Alexandra</td>\n",
       "      <td>Little Portugal</td>\n",
       "      <td>43.64590</td>\n",
       "      <td>-79.42423</td>\n",
       "      <td>Entire home/apt</td>\n",
       "      <td>469.0</td>\n",
       "      <td>...</td>\n",
       "      <td>0</td>\n",
       "      <td>0</td>\n",
       "      <td>NaN</td>\n",
       "      <td>2022-06-10</td>\n",
       "      <td>f</td>\n",
       "      <td>469.0</td>\n",
       "      <td>469.0</td>\n",
       "      <td>28.0</td>\n",
       "      <td>NaN</td>\n",
       "      <td>both</td>\n",
       "    </tr>\n",
       "    <tr>\n",
       "      <th>...</th>\n",
       "      <td>...</td>\n",
       "      <td>...</td>\n",
       "      <td>...</td>\n",
       "      <td>...</td>\n",
       "      <td>...</td>\n",
       "      <td>...</td>\n",
       "      <td>...</td>\n",
       "      <td>...</td>\n",
       "      <td>...</td>\n",
       "      <td>...</td>\n",
       "      <td>...</td>\n",
       "      <td>...</td>\n",
       "      <td>...</td>\n",
       "      <td>...</td>\n",
       "      <td>...</td>\n",
       "      <td>...</td>\n",
       "      <td>...</td>\n",
       "      <td>...</td>\n",
       "      <td>...</td>\n",
       "      <td>...</td>\n",
       "      <td>...</td>\n",
       "    </tr>\n",
       "    <tr>\n",
       "      <th>5537412</th>\n",
       "      <td>15170</td>\n",
       "      <td>40719607</td>\n",
       "      <td>Modern Guest Suite Near Steeles and Yonge</td>\n",
       "      <td>316011180</td>\n",
       "      <td>Shijin</td>\n",
       "      <td>Newtonbrook West</td>\n",
       "      <td>43.79784</td>\n",
       "      <td>-79.43334</td>\n",
       "      <td>Entire home/apt</td>\n",
       "      <td>108.0</td>\n",
       "      <td>...</td>\n",
       "      <td>81</td>\n",
       "      <td>36</td>\n",
       "      <td>NaN</td>\n",
       "      <td>2023-05-31</td>\n",
       "      <td>f</td>\n",
       "      <td>108.0</td>\n",
       "      <td>108.0</td>\n",
       "      <td>1.0</td>\n",
       "      <td>30.0</td>\n",
       "      <td>both</td>\n",
       "    </tr>\n",
       "    <tr>\n",
       "      <th>5537413</th>\n",
       "      <td>15170</td>\n",
       "      <td>40719607</td>\n",
       "      <td>Modern Guest Suite Near Steeles and Yonge</td>\n",
       "      <td>316011180</td>\n",
       "      <td>Shijin</td>\n",
       "      <td>Newtonbrook West</td>\n",
       "      <td>43.79784</td>\n",
       "      <td>-79.43334</td>\n",
       "      <td>Entire home/apt</td>\n",
       "      <td>108.0</td>\n",
       "      <td>...</td>\n",
       "      <td>81</td>\n",
       "      <td>36</td>\n",
       "      <td>NaN</td>\n",
       "      <td>2023-06-01</td>\n",
       "      <td>f</td>\n",
       "      <td>108.0</td>\n",
       "      <td>108.0</td>\n",
       "      <td>1.0</td>\n",
       "      <td>30.0</td>\n",
       "      <td>both</td>\n",
       "    </tr>\n",
       "    <tr>\n",
       "      <th>5537414</th>\n",
       "      <td>15170</td>\n",
       "      <td>40719607</td>\n",
       "      <td>Modern Guest Suite Near Steeles and Yonge</td>\n",
       "      <td>316011180</td>\n",
       "      <td>Shijin</td>\n",
       "      <td>Newtonbrook West</td>\n",
       "      <td>43.79784</td>\n",
       "      <td>-79.43334</td>\n",
       "      <td>Entire home/apt</td>\n",
       "      <td>108.0</td>\n",
       "      <td>...</td>\n",
       "      <td>81</td>\n",
       "      <td>36</td>\n",
       "      <td>NaN</td>\n",
       "      <td>2023-06-02</td>\n",
       "      <td>f</td>\n",
       "      <td>108.0</td>\n",
       "      <td>108.0</td>\n",
       "      <td>1.0</td>\n",
       "      <td>30.0</td>\n",
       "      <td>both</td>\n",
       "    </tr>\n",
       "    <tr>\n",
       "      <th>5537415</th>\n",
       "      <td>15170</td>\n",
       "      <td>40719607</td>\n",
       "      <td>Modern Guest Suite Near Steeles and Yonge</td>\n",
       "      <td>316011180</td>\n",
       "      <td>Shijin</td>\n",
       "      <td>Newtonbrook West</td>\n",
       "      <td>43.79784</td>\n",
       "      <td>-79.43334</td>\n",
       "      <td>Entire home/apt</td>\n",
       "      <td>108.0</td>\n",
       "      <td>...</td>\n",
       "      <td>81</td>\n",
       "      <td>36</td>\n",
       "      <td>NaN</td>\n",
       "      <td>2023-06-03</td>\n",
       "      <td>f</td>\n",
       "      <td>108.0</td>\n",
       "      <td>108.0</td>\n",
       "      <td>1.0</td>\n",
       "      <td>30.0</td>\n",
       "      <td>both</td>\n",
       "    </tr>\n",
       "    <tr>\n",
       "      <th>5537416</th>\n",
       "      <td>15170</td>\n",
       "      <td>40719607</td>\n",
       "      <td>Modern Guest Suite Near Steeles and Yonge</td>\n",
       "      <td>316011180</td>\n",
       "      <td>Shijin</td>\n",
       "      <td>Newtonbrook West</td>\n",
       "      <td>43.79784</td>\n",
       "      <td>-79.43334</td>\n",
       "      <td>Entire home/apt</td>\n",
       "      <td>108.0</td>\n",
       "      <td>...</td>\n",
       "      <td>81</td>\n",
       "      <td>36</td>\n",
       "      <td>NaN</td>\n",
       "      <td>2023-06-04</td>\n",
       "      <td>f</td>\n",
       "      <td>108.0</td>\n",
       "      <td>108.0</td>\n",
       "      <td>1.0</td>\n",
       "      <td>30.0</td>\n",
       "      <td>both</td>\n",
       "    </tr>\n",
       "  </tbody>\n",
       "</table>\n",
       "<p>5537417 rows × 24 columns</p>\n",
       "</div>"
      ],
      "text/plain": [
       "         Unnamed: 0 listing_id                                       name  \\\n",
       "0                 0       1419            Beautiful home in amazing area!   \n",
       "1                 0       1419            Beautiful home in amazing area!   \n",
       "2                 0       1419            Beautiful home in amazing area!   \n",
       "3                 0       1419            Beautiful home in amazing area!   \n",
       "4                 0       1419            Beautiful home in amazing area!   \n",
       "...             ...        ...                                        ...   \n",
       "5537412       15170   40719607  Modern Guest Suite Near Steeles and Yonge   \n",
       "5537413       15170   40719607  Modern Guest Suite Near Steeles and Yonge   \n",
       "5537414       15170   40719607  Modern Guest Suite Near Steeles and Yonge   \n",
       "5537415       15170   40719607  Modern Guest Suite Near Steeles and Yonge   \n",
       "5537416       15170   40719607  Modern Guest Suite Near Steeles and Yonge   \n",
       "\n",
       "           host_id  host_name     neighbourhood  latitude  longitude  \\\n",
       "0             1565  Alexandra   Little Portugal  43.64590  -79.42423   \n",
       "1             1565  Alexandra   Little Portugal  43.64590  -79.42423   \n",
       "2             1565  Alexandra   Little Portugal  43.64590  -79.42423   \n",
       "3             1565  Alexandra   Little Portugal  43.64590  -79.42423   \n",
       "4             1565  Alexandra   Little Portugal  43.64590  -79.42423   \n",
       "...            ...        ...               ...       ...        ...   \n",
       "5537412  316011180     Shijin  Newtonbrook West  43.79784  -79.43334   \n",
       "5537413  316011180     Shijin  Newtonbrook West  43.79784  -79.43334   \n",
       "5537414  316011180     Shijin  Newtonbrook West  43.79784  -79.43334   \n",
       "5537415  316011180     Shijin  Newtonbrook West  43.79784  -79.43334   \n",
       "5537416  316011180     Shijin  Newtonbrook West  43.79784  -79.43334   \n",
       "\n",
       "               room_type  list_price  ...  availability_365  \\\n",
       "0        Entire home/apt       469.0  ...                 0   \n",
       "1        Entire home/apt       469.0  ...                 0   \n",
       "2        Entire home/apt       469.0  ...                 0   \n",
       "3        Entire home/apt       469.0  ...                 0   \n",
       "4        Entire home/apt       469.0  ...                 0   \n",
       "...                  ...         ...  ...               ...   \n",
       "5537412  Entire home/apt       108.0  ...                81   \n",
       "5537413  Entire home/apt       108.0  ...                81   \n",
       "5537414  Entire home/apt       108.0  ...                81   \n",
       "5537415  Entire home/apt       108.0  ...                81   \n",
       "5537416  Entire home/apt       108.0  ...                81   \n",
       "\n",
       "        number_of_reviews_ltm  license        date  available  booked_price  \\\n",
       "0                           0      NaN  2022-06-06          f         469.0   \n",
       "1                           0      NaN  2022-06-07          f         469.0   \n",
       "2                           0      NaN  2022-06-08          f         469.0   \n",
       "3                           0      NaN  2022-06-09          f         469.0   \n",
       "4                           0      NaN  2022-06-10          f         469.0   \n",
       "...                       ...      ...         ...        ...           ...   \n",
       "5537412                    36      NaN  2023-05-31          f         108.0   \n",
       "5537413                    36      NaN  2023-06-01          f         108.0   \n",
       "5537414                    36      NaN  2023-06-02          f         108.0   \n",
       "5537415                    36      NaN  2023-06-03          f         108.0   \n",
       "5537416                    36      NaN  2023-06-04          f         108.0   \n",
       "\n",
       "        adjusted_price minimum_nights_y maximum_nights  _merge  \n",
       "0                469.0             28.0            NaN    both  \n",
       "1                469.0             28.0            NaN    both  \n",
       "2                469.0             28.0            NaN    both  \n",
       "3                469.0             28.0            NaN    both  \n",
       "4                469.0             28.0            NaN    both  \n",
       "...                ...              ...            ...     ...  \n",
       "5537412          108.0              1.0           30.0    both  \n",
       "5537413          108.0              1.0           30.0    both  \n",
       "5537414          108.0              1.0           30.0    both  \n",
       "5537415          108.0              1.0           30.0    both  \n",
       "5537416          108.0              1.0           30.0    both  \n",
       "\n",
       "[5537417 rows x 24 columns]"
      ]
     },
     "execution_count": 10,
     "metadata": {},
     "output_type": "execute_result"
    }
   ],
   "source": [
    "# drop duplicated minimum_nights column\n",
    "bnb.drop(columns = ['minimum_nights_x'])"
   ]
  },
  {
   "cell_type": "code",
   "execution_count": 11,
   "id": "7edc3294",
   "metadata": {},
   "outputs": [],
   "source": [
    "#rename minimum_nights_x to minimum_nights\n",
    "bnb.rename(columns= {'minimum_nights_x' : 'minimum_nights'}, inplace = True)"
   ]
  },
  {
   "cell_type": "code",
   "execution_count": 12,
   "id": "b814628e",
   "metadata": {},
   "outputs": [
    {
     "data": {
      "text/plain": [
       "Unnamed: 0                              0\n",
       "listing_id                              0\n",
       "name                                  730\n",
       "host_id                                 0\n",
       "host_name                            1095\n",
       "neighbourhood                           0\n",
       "latitude                                0\n",
       "longitude                               0\n",
       "room_type                               0\n",
       "list_price                           2190\n",
       "minimum_nights                     121910\n",
       "number_of_reviews                       0\n",
       "last_review                       1176395\n",
       "reviews_per_month                 1176395\n",
       "calculated_host_listings_count          0\n",
       "availability_365                        0\n",
       "number_of_reviews_ltm                   0\n",
       "license                           3458375\n",
       "date                                    0\n",
       "available                               0\n",
       "booked_price                         2663\n",
       "adjusted_price                       2663\n",
       "minimum_nights_y                   124929\n",
       "maximum_nights                    4682129\n",
       "_merge                                  0\n",
       "dtype: int64"
      ]
     },
     "execution_count": 12,
     "metadata": {},
     "output_type": "execute_result"
    }
   ],
   "source": [
    "# Check for missing values\n",
    "bnb.isnull().sum()"
   ]
  },
  {
   "cell_type": "code",
   "execution_count": 14,
   "id": "82732008",
   "metadata": {},
   "outputs": [],
   "source": [
    "# Impute missing booked price values with median\n",
    "bnb['booked_price'].fillna(bnb['booked_price'].median(), inplace=True)"
   ]
  },
  {
   "cell_type": "code",
   "execution_count": 15,
   "id": "d39715e0",
   "metadata": {},
   "outputs": [],
   "source": [
    "# check for duplicates\n",
    "dups = bnb.duplicated()"
   ]
  },
  {
   "cell_type": "code",
   "execution_count": 16,
   "id": "885c46fe",
   "metadata": {},
   "outputs": [
    {
     "data": {
      "text/plain": [
       "(5537417,)"
      ]
     },
     "execution_count": 16,
     "metadata": {},
     "output_type": "execute_result"
    }
   ],
   "source": [
    "dups.shape"
   ]
  },
  {
   "cell_type": "code",
   "execution_count": 18,
   "id": "61371e48",
   "metadata": {},
   "outputs": [
    {
     "data": {
      "text/plain": [
       "<AxesSubplot:xlabel='booked_price', ylabel='Count'>"
      ]
     },
     "execution_count": 18,
     "metadata": {},
     "output_type": "execute_result"
    },
    {
     "data": {
      "image/png": "[encoded data removed]",
      "text/plain": [
       "<Figure size 432x288 with 1 Axes>"
      ]
     },
     "metadata": {
      "needs_background": "light"
     },
     "output_type": "display_data"
    }
   ],
   "source": [
    "#extreme values check\n",
    "sns.histplot(bnb['booked_price'], bins=20, kde = True) "
   ]
  },
  {
   "cell_type": "code",
   "execution_count": 19,
   "id": "84b11f9c",
   "metadata": {},
   "outputs": [
    {
     "data": {
      "text/plain": [
       "<AxesSubplot:xlabel='number_of_reviews', ylabel='Count'>"
      ]
     },
     "execution_count": 19,
     "metadata": {},
     "output_type": "execute_result"
    },
    {
     "data": {
      "image/png": "[encoded data removed]",
      "text/plain": [
       "<Figure size 432x288 with 1 Axes>"
      ]
     },
     "metadata": {
      "needs_background": "light"
     },
     "output_type": "display_data"
    }
   ],
   "source": [
    "#extreme values check\n",
    "sns.histplot(bnb['number_of_reviews'], bins=20, kde = True) "
   ]
  },
  {
   "cell_type": "code",
   "execution_count": 20,
   "id": "5fcebb6a",
   "metadata": {},
   "outputs": [
    {
     "data": {
      "text/plain": [
       "<AxesSubplot:xlabel='availability_365', ylabel='Count'>"
      ]
     },
     "execution_count": 20,
     "metadata": {},
     "output_type": "execute_result"
    },
    {
     "data": {
      "image/png": "[encoded data removed]",
      "text/plain": [
       "<Figure size 432x288 with 1 Axes>"
      ]
     },
     "metadata": {
      "needs_background": "light"
     },
     "output_type": "display_data"
    }
   ],
   "source": [
    "#extreme values check\n",
    "sns.histplot(bnb['availability_365'], bins=20, kde = True) "
   ]
  },
  {
   "cell_type": "code",
   "execution_count": 22,
   "id": "1e42f8c5",
   "metadata": {},
   "outputs": [
    {
     "data": {
      "text/plain": [
       "180.0404930674356"
      ]
     },
     "execution_count": 22,
     "metadata": {},
     "output_type": "execute_result"
    }
   ],
   "source": [
    "bnb['booked_price'].mean() # Check the mean"
   ]
  },
  {
   "cell_type": "code",
   "execution_count": 23,
   "id": "60363d23",
   "metadata": {},
   "outputs": [
    {
     "data": {
      "text/plain": [
       "120.0"
      ]
     },
     "execution_count": 23,
     "metadata": {},
     "output_type": "execute_result"
    }
   ],
   "source": [
    "bnb['booked_price'].median() # Check the median"
   ]
  },
  {
   "cell_type": "code",
   "execution_count": 24,
   "id": "f998ed85",
   "metadata": {},
   "outputs": [
    {
     "data": {
      "text/plain": [
       "7000.0"
      ]
     },
     "execution_count": 24,
     "metadata": {},
     "output_type": "execute_result"
    }
   ],
   "source": [
    "bnb['booked_price'].max() # Check the max"
   ]
  },
  {
   "cell_type": "code",
   "execution_count": 25,
   "id": "61ebcef8",
   "metadata": {},
   "outputs": [
    {
     "data": {
      "text/plain": [
       "27.184422809407348"
      ]
     },
     "execution_count": 25,
     "metadata": {},
     "output_type": "execute_result"
    }
   ],
   "source": [
    "bnb['number_of_reviews'].mean() # Check the mean"
   ]
  },
  {
   "cell_type": "code",
   "execution_count": 26,
   "id": "ee273c4a",
   "metadata": {},
   "outputs": [
    {
     "data": {
      "text/plain": [
       "6.0"
      ]
     },
     "execution_count": 26,
     "metadata": {},
     "output_type": "execute_result"
    }
   ],
   "source": [
    "bnb['number_of_reviews'].median() # Check the median"
   ]
  },
  {
   "cell_type": "code",
   "execution_count": 27,
   "id": "cdaa6f97",
   "metadata": {},
   "outputs": [
    {
     "data": {
      "text/plain": [
       "828"
      ]
     },
     "execution_count": 27,
     "metadata": {},
     "output_type": "execute_result"
    }
   ],
   "source": [
    "bnb['number_of_reviews'].max() # Check the max"
   ]
  },
  {
   "cell_type": "code",
   "execution_count": 28,
   "id": "7593c334",
   "metadata": {},
   "outputs": [
    {
     "data": {
      "text/plain": [
       "122.06567339970965"
      ]
     },
     "execution_count": 28,
     "metadata": {},
     "output_type": "execute_result"
    }
   ],
   "source": [
    "bnb['availability_365'].mean() # Check the mean"
   ]
  },
  {
   "cell_type": "code",
   "execution_count": 29,
   "id": "b50e4024",
   "metadata": {},
   "outputs": [
    {
     "data": {
      "text/plain": [
       "77.0"
      ]
     },
     "execution_count": 29,
     "metadata": {},
     "output_type": "execute_result"
    }
   ],
   "source": [
    "bnb['availability_365'].median() # Check the median"
   ]
  },
  {
   "cell_type": "code",
   "execution_count": 30,
   "id": "9f896ca5",
   "metadata": {},
   "outputs": [
    {
     "data": {
      "text/plain": [
       "365"
      ]
     },
     "execution_count": 30,
     "metadata": {},
     "output_type": "execute_result"
    }
   ],
   "source": [
    "bnb['availability_365'].max() # Check the max"
   ]
  },
  {
   "cell_type": "markdown",
   "id": "5e53059b",
   "metadata": {},
   "source": [
    "# 3. Data Prep for Regression Analysis"
   ]
  },
  {
   "cell_type": "code",
   "execution_count": 31,
   "id": "8d74c736",
   "metadata": {},
   "outputs": [
    {
     "data": {
      "image/png": "[encoded data removed]",
      "text/plain": [
       "<Figure size 432x288 with 1 Axes>"
      ]
     },
     "metadata": {
      "needs_background": "light"
     },
     "output_type": "display_data"
    }
   ],
   "source": [
    "# Create a scatterplot using matplotlib for another look at how the chosen variables plot against each other.\n",
    "\n",
    "bnb.plot(x = 'availability_365', y='booked_price',style='o') # The style option creates a scatterplot; without it, we only have lines.\n",
    "plt.title('Listing Availability vs Booked Price')  \n",
    "plt.xlabel('Availability')  \n",
    "plt.ylabel('Booked Price')  \n",
    "plt.show()"
   ]
  },
  {
   "cell_type": "code",
   "execution_count": 33,
   "id": "c5f2f682",
   "metadata": {},
   "outputs": [],
   "source": [
    "# Reshape the variables into NumPy arrays and put them into separate objects.\n",
    "\n",
    "X = bnb['availability_365'].values.reshape(-1,1)\n",
    "y = bnb['booked_price'].values.reshape(-1,1)"
   ]
  },
  {
   "cell_type": "code",
   "execution_count": 34,
   "id": "9f4c6fda",
   "metadata": {},
   "outputs": [
    {
     "data": {
      "text/plain": [
       "array([[ 0],\n",
       "       [ 0],\n",
       "       [ 0],\n",
       "       ...,\n",
       "       [81],\n",
       "       [81],\n",
       "       [81]], dtype=int64)"
      ]
     },
     "execution_count": 34,
     "metadata": {},
     "output_type": "execute_result"
    }
   ],
   "source": [
    "X"
   ]
  },
  {
   "cell_type": "code",
   "execution_count": 35,
   "id": "83d5e8b3",
   "metadata": {},
   "outputs": [
    {
     "data": {
      "text/plain": [
       "array([[469.],\n",
       "       [469.],\n",
       "       [469.],\n",
       "       ...,\n",
       "       [108.],\n",
       "       [108.],\n",
       "       [108.]])"
      ]
     },
     "execution_count": 35,
     "metadata": {},
     "output_type": "execute_result"
    }
   ],
   "source": [
    "y"
   ]
  },
  {
   "cell_type": "code",
   "execution_count": 36,
   "id": "30bc385f",
   "metadata": {},
   "outputs": [],
   "source": [
    "# Split data into a training set and a test set.\n",
    "\n",
    "X_train, X_test, y_train, y_test = train_test_split(X, y, test_size=0.3, random_state=0)"
   ]
  },
  {
   "cell_type": "markdown",
   "id": "e05fc08d",
   "metadata": {},
   "source": [
    "# 4. Regression Analysis"
   ]
  },
  {
   "cell_type": "code",
   "execution_count": 37,
   "id": "9f01a4ee",
   "metadata": {},
   "outputs": [],
   "source": [
    "# Create a regression object.\n",
    "\n",
    "regression = LinearRegression()  # This is the regression object, which will be fit onto the training set."
   ]
  },
  {
   "cell_type": "code",
   "execution_count": 38,
   "id": "cc96d2b7",
   "metadata": {},
   "outputs": [
    {
     "data": {
      "text/plain": [
       "LinearRegression()"
      ]
     },
     "execution_count": 38,
     "metadata": {},
     "output_type": "execute_result"
    }
   ],
   "source": [
    "# Fit the regression object onto the training set.\n",
    "\n",
    "regression.fit(X_train, y_train)"
   ]
  },
  {
   "cell_type": "code",
   "execution_count": 39,
   "id": "d005a080",
   "metadata": {},
   "outputs": [],
   "source": [
    "# Predict the values of y using X.\n",
    "\n",
    "y_predicted = regression.predict(X_test)"
   ]
  },
  {
   "cell_type": "code",
   "execution_count": 40,
   "id": "3edd1b2b",
   "metadata": {},
   "outputs": [
    {
     "data": {
      "image/png": "[encoded data removed]",
      "text/plain": [
       "<Figure size 432x288 with 1 Axes>"
      ]
     },
     "metadata": {
      "needs_background": "light"
     },
     "output_type": "display_data"
    }
   ],
   "source": [
    "# Create a plot that shows the regression line from the model on the test set.\n",
    "\n",
    "plot_test = plt\n",
    "plot_test.scatter(X_test, y_test, color='gray', s = 15)\n",
    "plot_test.plot(X_test, y_predicted, color='red', linewidth =3)\n",
    "plot_test.title('Availibility vs Booked Price (Test set)')\n",
    "plot_test.xlabel('Availability')\n",
    "plot_test.ylabel('Booked Price')\n",
    "plot_test.show()"
   ]
  },
  {
   "cell_type": "code",
   "execution_count": 41,
   "id": "2d7d42e6",
   "metadata": {},
   "outputs": [],
   "source": [
    "# Create objects that contain the model summary statistics.\n",
    "\n",
    "rmse = mean_squared_error(y_test, y_predicted) # This is the mean squared error\n",
    "r2 = r2_score(y_test, y_predicted) # This is the R2 score. "
   ]
  },
  {
   "cell_type": "code",
   "execution_count": 42,
   "id": "833cf630",
   "metadata": {},
   "outputs": [
    {
     "name": "stdout",
     "output_type": "stream",
     "text": [
      "Slope: [[0.10636772]]\n",
      "Mean squared error:  49640.12528742275\n",
      "R2 score:  0.003668441561885172\n"
     ]
    }
   ],
   "source": [
    "# Print the model summary statistics. This is where you evaluate the performance of the model.\n",
    "\n",
    "print('Slope:' ,regression.coef_)\n",
    "print('Mean squared error: ', rmse)\n",
    "print('R2 score: ', r2)"
   ]
  },
  {
   "cell_type": "code",
   "execution_count": 43,
   "id": "a4c7c4f2",
   "metadata": {},
   "outputs": [
    {
     "data": {
      "text/plain": [
       "array([[183.86891086],\n",
       "       [205.88702814],\n",
       "       [172.06209434],\n",
       "       ...,\n",
       "       [203.54693838],\n",
       "       [170.14747545],\n",
       "       [189.40003211]])"
      ]
     },
     "execution_count": 43,
     "metadata": {},
     "output_type": "execute_result"
    }
   ],
   "source": [
    "y_predicted"
   ]
  },
  {
   "cell_type": "code",
   "execution_count": 44,
   "id": "f40f9ce5",
   "metadata": {},
   "outputs": [
    {
     "data": {
      "text/html": [
       "<div>\n",
       "<style scoped>\n",
       "    .dataframe tbody tr th:only-of-type {\n",
       "        vertical-align: middle;\n",
       "    }\n",
       "\n",
       "    .dataframe tbody tr th {\n",
       "        vertical-align: top;\n",
       "    }\n",
       "\n",
       "    .dataframe thead th {\n",
       "        text-align: right;\n",
       "    }\n",
       "</style>\n",
       "<table border=\"1\" class=\"dataframe\">\n",
       "  <thead>\n",
       "    <tr style=\"text-align: right;\">\n",
       "      <th></th>\n",
       "      <th>Actual</th>\n",
       "      <th>Predicted</th>\n",
       "    </tr>\n",
       "  </thead>\n",
       "  <tbody>\n",
       "    <tr>\n",
       "      <th>0</th>\n",
       "      <td>106.0</td>\n",
       "      <td>183.868911</td>\n",
       "    </tr>\n",
       "    <tr>\n",
       "      <th>1</th>\n",
       "      <td>925.0</td>\n",
       "      <td>205.887028</td>\n",
       "    </tr>\n",
       "    <tr>\n",
       "      <th>2</th>\n",
       "      <td>270.0</td>\n",
       "      <td>172.062094</td>\n",
       "    </tr>\n",
       "    <tr>\n",
       "      <th>3</th>\n",
       "      <td>99.0</td>\n",
       "      <td>196.313934</td>\n",
       "    </tr>\n",
       "    <tr>\n",
       "      <th>4</th>\n",
       "      <td>284.0</td>\n",
       "      <td>200.462275</td>\n",
       "    </tr>\n",
       "    <tr>\n",
       "      <th>5</th>\n",
       "      <td>49.0</td>\n",
       "      <td>170.041108</td>\n",
       "    </tr>\n",
       "    <tr>\n",
       "      <th>6</th>\n",
       "      <td>69.0</td>\n",
       "      <td>178.975996</td>\n",
       "    </tr>\n",
       "    <tr>\n",
       "      <th>7</th>\n",
       "      <td>207.0</td>\n",
       "      <td>175.891332</td>\n",
       "    </tr>\n",
       "    <tr>\n",
       "      <th>8</th>\n",
       "      <td>79.0</td>\n",
       "      <td>202.164158</td>\n",
       "    </tr>\n",
       "    <tr>\n",
       "      <th>9</th>\n",
       "      <td>106.0</td>\n",
       "      <td>167.062812</td>\n",
       "    </tr>\n",
       "    <tr>\n",
       "      <th>10</th>\n",
       "      <td>46.0</td>\n",
       "      <td>167.062812</td>\n",
       "    </tr>\n",
       "    <tr>\n",
       "      <th>11</th>\n",
       "      <td>149.0</td>\n",
       "      <td>167.488283</td>\n",
       "    </tr>\n",
       "    <tr>\n",
       "      <th>12</th>\n",
       "      <td>85.0</td>\n",
       "      <td>173.551242</td>\n",
       "    </tr>\n",
       "    <tr>\n",
       "      <th>13</th>\n",
       "      <td>898.0</td>\n",
       "      <td>167.807386</td>\n",
       "    </tr>\n",
       "    <tr>\n",
       "      <th>14</th>\n",
       "      <td>148.0</td>\n",
       "      <td>179.188731</td>\n",
       "    </tr>\n",
       "    <tr>\n",
       "      <th>15</th>\n",
       "      <td>70.0</td>\n",
       "      <td>167.062812</td>\n",
       "    </tr>\n",
       "    <tr>\n",
       "      <th>16</th>\n",
       "      <td>177.0</td>\n",
       "      <td>170.892049</td>\n",
       "    </tr>\n",
       "    <tr>\n",
       "      <th>17</th>\n",
       "      <td>149.0</td>\n",
       "      <td>167.062812</td>\n",
       "    </tr>\n",
       "    <tr>\n",
       "      <th>18</th>\n",
       "      <td>213.0</td>\n",
       "      <td>195.994831</td>\n",
       "    </tr>\n",
       "    <tr>\n",
       "      <th>19</th>\n",
       "      <td>80.0</td>\n",
       "      <td>167.062812</td>\n",
       "    </tr>\n",
       "    <tr>\n",
       "      <th>20</th>\n",
       "      <td>482.0</td>\n",
       "      <td>171.742991</td>\n",
       "    </tr>\n",
       "    <tr>\n",
       "      <th>21</th>\n",
       "      <td>98.0</td>\n",
       "      <td>186.528104</td>\n",
       "    </tr>\n",
       "    <tr>\n",
       "      <th>22</th>\n",
       "      <td>74.0</td>\n",
       "      <td>201.632319</td>\n",
       "    </tr>\n",
       "    <tr>\n",
       "      <th>23</th>\n",
       "      <td>190.0</td>\n",
       "      <td>187.910884</td>\n",
       "    </tr>\n",
       "    <tr>\n",
       "      <th>24</th>\n",
       "      <td>62.0</td>\n",
       "      <td>167.062812</td>\n",
       "    </tr>\n",
       "    <tr>\n",
       "      <th>25</th>\n",
       "      <td>120.0</td>\n",
       "      <td>167.062812</td>\n",
       "    </tr>\n",
       "    <tr>\n",
       "      <th>26</th>\n",
       "      <td>126.0</td>\n",
       "      <td>169.934740</td>\n",
       "    </tr>\n",
       "    <tr>\n",
       "      <th>27</th>\n",
       "      <td>79.0</td>\n",
       "      <td>167.062812</td>\n",
       "    </tr>\n",
       "    <tr>\n",
       "      <th>28</th>\n",
       "      <td>85.0</td>\n",
       "      <td>167.062812</td>\n",
       "    </tr>\n",
       "    <tr>\n",
       "      <th>29</th>\n",
       "      <td>160.0</td>\n",
       "      <td>167.062812</td>\n",
       "    </tr>\n",
       "  </tbody>\n",
       "</table>\n",
       "</div>"
      ],
      "text/plain": [
       "    Actual   Predicted\n",
       "0    106.0  183.868911\n",
       "1    925.0  205.887028\n",
       "2    270.0  172.062094\n",
       "3     99.0  196.313934\n",
       "4    284.0  200.462275\n",
       "5     49.0  170.041108\n",
       "6     69.0  178.975996\n",
       "7    207.0  175.891332\n",
       "8     79.0  202.164158\n",
       "9    106.0  167.062812\n",
       "10    46.0  167.062812\n",
       "11   149.0  167.488283\n",
       "12    85.0  173.551242\n",
       "13   898.0  167.807386\n",
       "14   148.0  179.188731\n",
       "15    70.0  167.062812\n",
       "16   177.0  170.892049\n",
       "17   149.0  167.062812\n",
       "18   213.0  195.994831\n",
       "19    80.0  167.062812\n",
       "20   482.0  171.742991\n",
       "21    98.0  186.528104\n",
       "22    74.0  201.632319\n",
       "23   190.0  187.910884\n",
       "24    62.0  167.062812\n",
       "25   120.0  167.062812\n",
       "26   126.0  169.934740\n",
       "27    79.0  167.062812\n",
       "28    85.0  167.062812\n",
       "29   160.0  167.062812"
      ]
     },
     "execution_count": 44,
     "metadata": {},
     "output_type": "execute_result"
    }
   ],
   "source": [
    "# Create a dataframe comparing the actual and predicted values of y.\n",
    "\n",
    "data = pd.DataFrame({'Actual': y_test.flatten(), 'Predicted': y_predicted.flatten()})\n",
    "data.head(30)"
   ]
  },
  {
   "cell_type": "markdown",
   "id": "635fb7d3",
   "metadata": {},
   "source": [
    "## Compare how the regression fits the training set"
   ]
  },
  {
   "cell_type": "code",
   "execution_count": 47,
   "id": "7f3e053a",
   "metadata": {},
   "outputs": [],
   "source": [
    "# Predict.\n",
    "\n",
    "y_predicted_train = regression.predict(X_train) # This is predicting X_train!mm"
   ]
  },
  {
   "cell_type": "code",
   "execution_count": 48,
   "id": "e525c4a2",
   "metadata": {},
   "outputs": [],
   "source": [
    "rmse = mean_squared_error(y_train, y_predicted_train)\n",
    "r2 = r2_score(y_train, y_predicted_train)"
   ]
  },
  {
   "cell_type": "code",
   "execution_count": 49,
   "id": "f0892eaf",
   "metadata": {},
   "outputs": [
    {
     "name": "stdout",
     "output_type": "stream",
     "text": [
      "Slope: [[0.10636772]]\n",
      "Mean squared error:  49849.94647929117\n",
      "R2 score:  0.0036229449014062443\n"
     ]
    }
   ],
   "source": [
    "print('Slope:' ,regression.coef_)\n",
    "print('Mean squared error: ', rmse)\n",
    "print('R2 score: ', r2)"
   ]
  },
  {
   "cell_type": "code",
   "execution_count": 50,
   "id": "33592dbd",
   "metadata": {},
   "outputs": [
    {
     "data": {
      "image/png": "[encoded data removed]",
      "text/plain": [
       "<Figure size 432x288 with 1 Axes>"
      ]
     },
     "metadata": {
      "needs_background": "light"
     },
     "output_type": "display_data"
    }
   ],
   "source": [
    "# Visualizing the training set results.\n",
    "\n",
    "plot_test = plt\n",
    "plot_test.scatter(X_train, y_train, color='green', s = 15)\n",
    "plot_test.plot(X_train, y_predicted_train, color='red', linewidth =3)\n",
    "plot_test.title('Availability vs Booked Price (Test set)')\n",
    "plot_test.xlabel('Availablity')\n",
    "plot_test.ylabel('Booked Price')\n",
    "plot_test.show()"
   ]
  },
  {
   "cell_type": "markdown",
   "id": "54c7cf58",
   "metadata": {},
   "source": [
    "This is not a good model for predicting the price per night for an Airbnb rental."
   ]
  },
  {
   "cell_type": "markdown",
   "id": "cabb2112",
   "metadata": {},
   "source": [
    "# Bonus: Performance Improvement after Removing Outliers"
   ]
  },
  {
   "cell_type": "code",
   "execution_count": 51,
   "id": "a6bace05",
   "metadata": {},
   "outputs": [],
   "source": [
    "# Clean the extreme values from the \"Price per Unit\" variable observed during the consistency checks.\n",
    "\n",
    "bnb_test = bnb[bnb['booked_price'] <=500] "
   ]
  },
  {
   "cell_type": "code",
   "execution_count": 53,
   "id": "f659c4bd",
   "metadata": {},
   "outputs": [
    {
     "data": {
      "image/png": "[encoded data removed]",
      "text/plain": [
       "<Figure size 432x288 with 1 Axes>"
      ]
     },
     "metadata": {
      "needs_background": "light"
     },
     "output_type": "display_data"
    }
   ],
   "source": [
    "# See how the scatterplot looks without outliers.\n",
    "\n",
    "bnb_test.plot(x = 'availability_365', y='booked_price', style='o')  \n",
    "plt.title('Availability vs Booked Price')  \n",
    "plt.xlabel('Availability')  \n",
    "plt.ylabel('Booked Price')  \n",
    "plt.show()"
   ]
  },
  {
   "cell_type": "code",
   "execution_count": 54,
   "id": "fbe7b703",
   "metadata": {},
   "outputs": [],
   "source": [
    "# Reshape again.\n",
    "\n",
    "X_2 = bnb_test['availability_365'].values.reshape(-1,1)\n",
    "y_2 = bnb_test['booked_price'].values.reshape(-1,1)"
   ]
  },
  {
   "cell_type": "code",
   "execution_count": 55,
   "id": "1a3fe07d",
   "metadata": {},
   "outputs": [],
   "source": [
    "X_train_2, X_test_2, y_train_2, y_test_2 = train_test_split(X_2, y_2, test_size=0.3, random_state=0)"
   ]
  },
  {
   "cell_type": "code",
   "execution_count": 56,
   "id": "0340dab3",
   "metadata": {},
   "outputs": [
    {
     "data": {
      "text/plain": [
       "LinearRegression()"
      ]
     },
     "execution_count": 56,
     "metadata": {},
     "output_type": "execute_result"
    }
   ],
   "source": [
    "# Run and fit the regression.\n",
    "\n",
    "regression = LinearRegression()  \n",
    "regression.fit(X_train_2, y_train_2)"
   ]
  },
  {
   "cell_type": "code",
   "execution_count": 57,
   "id": "01c71bcf",
   "metadata": {},
   "outputs": [],
   "source": [
    "# Predict.\n",
    "\n",
    "y_predicted_2 = regression.predict(X_test_2)"
   ]
  },
  {
   "cell_type": "code",
   "execution_count": 58,
   "id": "16b0ba77",
   "metadata": {},
   "outputs": [],
   "source": [
    "rmse = mean_squared_error(y_test_2, y_predicted_2)\n",
    "r2 = r2_score(y_test_2, y_predicted_2)"
   ]
  },
  {
   "cell_type": "code",
   "execution_count": 59,
   "id": "1cd52fcd",
   "metadata": {},
   "outputs": [
    {
     "name": "stdout",
     "output_type": "stream",
     "text": [
      "Slope: [[0.05171912]]\n",
      "Mean squared error:  9449.208219027852\n",
      "R2 score:  0.0046959151878738226\n"
     ]
    }
   ],
   "source": [
    "print('Slope:' ,regression.coef_)\n",
    "print('Mean squared error: ', rmse)\n",
    "print('R2 score: ', r2)"
   ]
  },
  {
   "cell_type": "code",
   "execution_count": 60,
   "id": "667fb08c",
   "metadata": {},
   "outputs": [
    {
     "data": {
      "image/png": "[encoded data removed]",
      "text/plain": [
       "<Figure size 432x288 with 1 Axes>"
      ]
     },
     "metadata": {
      "needs_background": "light"
     },
     "output_type": "display_data"
    }
   ],
   "source": [
    "# Visualizing the test set results.\n",
    "plot_test = plt\n",
    "plot_test.scatter(X_test, y_test, color='gray', s = 15)\n",
    "plot_test.plot(X_train, regression.predict(X_train), color='red', linewidth =3)\n",
    "plot_test.title('Availability vs Booked Price (Test set)')\n",
    "plot_test.xlabel('Availability')\n",
    "plot_test.ylabel('Booked Price')\n",
    "plot_test.show()"
   ]
  },
  {
   "cell_type": "markdown",
   "id": "480f2296",
   "metadata": {},
   "source": [
    "The result of this regression has lead me to reject a hypothsis that a listing with less availability will have a higher price per night.  It could be interesting to compare the number of reviews against the listing availability."
   ]
  },
  {
   "cell_type": "code",
   "execution_count": null,
   "id": "8619ee4c",
   "metadata": {},
   "outputs": [],
   "source": []
  }
 ],
 "metadata": {
  "kernelspec": {
   "display_name": "Python 3 (ipykernel)",
   "language": "python",
   "name": "python3"
  },
  "language_info": {
   "codemirror_mode": {
    "name": "ipython",
    "version": 3
   },
   "file_extension": ".py",
   "mimetype": "text/x-python",
   "name": "python",
   "nbconvert_exporter": "python",
   "pygments_lexer": "ipython3",
   "version": "3.9.12"
  }
 },
 "nbformat": 4,
 "nbformat_minor": 5
}
