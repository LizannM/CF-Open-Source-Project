{
 "cells": [
  {
   "cell_type": "markdown",
   "id": "0bb9a06b",
   "metadata": {},
   "source": [
    "# Combine Listings and Calendar Data"
   ]
  },
  {
   "cell_type": "markdown",
   "id": "d4788ad2",
   "metadata": {},
   "source": [
    "1. Import Libraries and Data\n",
    "2. Merge Datasets\n",
    "3. Check Merged Data\n",
    "4. Export Combined Data"
   ]
  },
  {
   "cell_type": "markdown",
   "id": "fbb1b97f",
   "metadata": {},
   "source": [
    "# 1. Import Libraries and Data"
   ]
  },
  {
   "cell_type": "code",
   "execution_count": 1,
   "id": "cb74fc56",
   "metadata": {},
   "outputs": [],
   "source": [
    "# Import Libraries\n",
    "import pandas as pd\n",
    "import numpy as np\n",
    "import os\n",
    "import matplotlib.pyplot as plt\n",
    "import seaborn as sns\n",
    "import scipy"
   ]
  },
  {
   "cell_type": "code",
   "execution_count": 2,
   "id": "5d3b2690",
   "metadata": {},
   "outputs": [],
   "source": [
    "# Define path\n",
    "path = r'C:\\Users\\lizan\\Desktop\\Data Analytics\\07-22 Airbnb Toronto Analysis'"
   ]
  },
  {
   "cell_type": "code",
   "execution_count": 3,
   "id": "c321ef60",
   "metadata": {},
   "outputs": [],
   "source": [
    "# Import Listings data\n",
    "listings = pd.read_csv(os.path.join(path, '02 Data','Prepared Data','Listings_Clean.csv'))"
   ]
  },
  {
   "cell_type": "code",
   "execution_count": 4,
   "id": "d7ecb41a",
   "metadata": {},
   "outputs": [],
   "source": [
    "# Import Calendar Data\n",
    "cal = pd.read_pickle(os.path.join(path, '02 Data','Prepared Data','Calendar_Clean.pkl'))"
   ]
  },
  {
   "cell_type": "code",
   "execution_count": 5,
   "id": "127e86bf",
   "metadata": {},
   "outputs": [
    {
     "data": {
      "text/plain": [
       "(15171, 18)"
      ]
     },
     "execution_count": 5,
     "metadata": {},
     "output_type": "execute_result"
    }
   ],
   "source": [
    "listings.shape"
   ]
  },
  {
   "cell_type": "code",
   "execution_count": 6,
   "id": "aff3323a",
   "metadata": {},
   "outputs": [
    {
     "data": {
      "text/plain": [
       "(5537417, 7)"
      ]
     },
     "execution_count": 6,
     "metadata": {},
     "output_type": "execute_result"
    }
   ],
   "source": [
    "cal.shape"
   ]
  },
  {
   "cell_type": "markdown",
   "id": "4863136a",
   "metadata": {},
   "source": [
    "# 2. Merge Datasets"
   ]
  },
  {
   "cell_type": "code",
   "execution_count": 7,
   "id": "4692ea77",
   "metadata": {},
   "outputs": [
    {
     "name": "stdout",
     "output_type": "stream",
     "text": [
      "<class 'pandas.core.frame.DataFrame'>\n",
      "RangeIndex: 15171 entries, 0 to 15170\n",
      "Data columns (total 18 columns):\n",
      " #   Column                          Non-Null Count  Dtype  \n",
      "---  ------                          --------------  -----  \n",
      " 0   Unnamed: 0                      15171 non-null  int64  \n",
      " 1   id                              15171 non-null  int64  \n",
      " 2   name                            15169 non-null  object \n",
      " 3   host_id                         15171 non-null  int64  \n",
      " 4   host_name                       15168 non-null  object \n",
      " 5   neighbourhood                   15171 non-null  object \n",
      " 6   latitude                        15171 non-null  float64\n",
      " 7   longitude                       15171 non-null  float64\n",
      " 8   room_type                       15171 non-null  object \n",
      " 9   price                           15165 non-null  float64\n",
      " 10  minimum_nights                  14837 non-null  float64\n",
      " 11  number_of_reviews               15171 non-null  int64  \n",
      " 12  last_review                     11948 non-null  object \n",
      " 13  reviews_per_month               11948 non-null  float64\n",
      " 14  calculated_host_listings_count  15171 non-null  int64  \n",
      " 15  availability_365                15171 non-null  int64  \n",
      " 16  number_of_reviews_ltm           15171 non-null  int64  \n",
      " 17  license                         5696 non-null   object \n",
      "dtypes: float64(5), int64(7), object(6)\n",
      "memory usage: 2.1+ MB\n"
     ]
    }
   ],
   "source": [
    "listings.info()"
   ]
  },
  {
   "cell_type": "code",
   "execution_count": 8,
   "id": "cf0b9d0e",
   "metadata": {},
   "outputs": [
    {
     "name": "stdout",
     "output_type": "stream",
     "text": [
      "<class 'pandas.core.frame.DataFrame'>\n",
      "RangeIndex: 5537417 entries, 0 to 5537416\n",
      "Data columns (total 7 columns):\n",
      " #   Column          Dtype  \n",
      "---  ------          -----  \n",
      " 0   listing_id      object \n",
      " 1   date            object \n",
      " 2   available       object \n",
      " 3   price           float64\n",
      " 4   adjusted_price  float64\n",
      " 5   minimum_nights  float64\n",
      " 6   maximum_nights  float64\n",
      "dtypes: float64(4), object(3)\n",
      "memory usage: 295.7+ MB\n"
     ]
    }
   ],
   "source": [
    "cal.info()"
   ]
  },
  {
   "cell_type": "code",
   "execution_count": 10,
   "id": "43cd6fc6",
   "metadata": {},
   "outputs": [],
   "source": [
    "# rename id to listings_id\n",
    "listings.rename(columns = {'id':'listing_id'}, inplace=True)"
   ]
  },
  {
   "cell_type": "code",
   "execution_count": 12,
   "id": "eadfa7fc",
   "metadata": {},
   "outputs": [],
   "source": [
    "# change listing ID to object\n",
    "listings['listing_id'] = listings['listing_id'].astype('str')"
   ]
  },
  {
   "cell_type": "code",
   "execution_count": 13,
   "id": "8d840655",
   "metadata": {},
   "outputs": [
    {
     "name": "stdout",
     "output_type": "stream",
     "text": [
      "<class 'pandas.core.frame.DataFrame'>\n",
      "RangeIndex: 15171 entries, 0 to 15170\n",
      "Data columns (total 18 columns):\n",
      " #   Column                          Non-Null Count  Dtype  \n",
      "---  ------                          --------------  -----  \n",
      " 0   Unnamed: 0                      15171 non-null  int64  \n",
      " 1   listing_id                      15171 non-null  object \n",
      " 2   name                            15169 non-null  object \n",
      " 3   host_id                         15171 non-null  int64  \n",
      " 4   host_name                       15168 non-null  object \n",
      " 5   neighbourhood                   15171 non-null  object \n",
      " 6   latitude                        15171 non-null  float64\n",
      " 7   longitude                       15171 non-null  float64\n",
      " 8   room_type                       15171 non-null  object \n",
      " 9   price                           15165 non-null  float64\n",
      " 10  minimum_nights                  14837 non-null  float64\n",
      " 11  number_of_reviews               15171 non-null  int64  \n",
      " 12  last_review                     11948 non-null  object \n",
      " 13  reviews_per_month               11948 non-null  float64\n",
      " 14  calculated_host_listings_count  15171 non-null  int64  \n",
      " 15  availability_365                15171 non-null  int64  \n",
      " 16  number_of_reviews_ltm           15171 non-null  int64  \n",
      " 17  license                         5696 non-null   object \n",
      "dtypes: float64(5), int64(6), object(7)\n",
      "memory usage: 2.1+ MB\n"
     ]
    }
   ],
   "source": [
    "listings.info()"
   ]
  },
  {
   "cell_type": "code",
   "execution_count": 16,
   "id": "986320ce",
   "metadata": {},
   "outputs": [],
   "source": [
    "# merge calendar into listings dataset\n",
    "listings_cal = listings.merge(cal, on = ['listing_id'],indicator = True)"
   ]
  },
  {
   "cell_type": "markdown",
   "id": "3eb580af",
   "metadata": {},
   "source": [
    "# 3. Check Merged Data"
   ]
  },
  {
   "cell_type": "code",
   "execution_count": 18,
   "id": "7dfec952",
   "metadata": {},
   "outputs": [
    {
     "data": {
      "text/html": [
       "<div>\n",
       "<style scoped>\n",
       "    .dataframe tbody tr th:only-of-type {\n",
       "        vertical-align: middle;\n",
       "    }\n",
       "\n",
       "    .dataframe tbody tr th {\n",
       "        vertical-align: top;\n",
       "    }\n",
       "\n",
       "    .dataframe thead th {\n",
       "        text-align: right;\n",
       "    }\n",
       "</style>\n",
       "<table border=\"1\" class=\"dataframe\">\n",
       "  <thead>\n",
       "    <tr style=\"text-align: right;\">\n",
       "      <th></th>\n",
       "      <th>Unnamed: 0</th>\n",
       "      <th>listing_id</th>\n",
       "      <th>name</th>\n",
       "      <th>host_id</th>\n",
       "      <th>host_name</th>\n",
       "      <th>neighbourhood</th>\n",
       "      <th>latitude</th>\n",
       "      <th>longitude</th>\n",
       "      <th>room_type</th>\n",
       "      <th>price_x</th>\n",
       "      <th>...</th>\n",
       "      <th>availability_365</th>\n",
       "      <th>number_of_reviews_ltm</th>\n",
       "      <th>license</th>\n",
       "      <th>date</th>\n",
       "      <th>available</th>\n",
       "      <th>price_y</th>\n",
       "      <th>adjusted_price</th>\n",
       "      <th>minimum_nights_y</th>\n",
       "      <th>maximum_nights</th>\n",
       "      <th>_merge</th>\n",
       "    </tr>\n",
       "  </thead>\n",
       "  <tbody>\n",
       "    <tr>\n",
       "      <th>0</th>\n",
       "      <td>0</td>\n",
       "      <td>1419</td>\n",
       "      <td>Beautiful home in amazing area!</td>\n",
       "      <td>1565</td>\n",
       "      <td>Alexandra</td>\n",
       "      <td>Little Portugal</td>\n",
       "      <td>43.6459</td>\n",
       "      <td>-79.42423</td>\n",
       "      <td>Entire home/apt</td>\n",
       "      <td>469.0</td>\n",
       "      <td>...</td>\n",
       "      <td>0</td>\n",
       "      <td>0</td>\n",
       "      <td>NaN</td>\n",
       "      <td>2022-06-06</td>\n",
       "      <td>f</td>\n",
       "      <td>469.0</td>\n",
       "      <td>469.0</td>\n",
       "      <td>28.0</td>\n",
       "      <td>NaN</td>\n",
       "      <td>both</td>\n",
       "    </tr>\n",
       "    <tr>\n",
       "      <th>1</th>\n",
       "      <td>0</td>\n",
       "      <td>1419</td>\n",
       "      <td>Beautiful home in amazing area!</td>\n",
       "      <td>1565</td>\n",
       "      <td>Alexandra</td>\n",
       "      <td>Little Portugal</td>\n",
       "      <td>43.6459</td>\n",
       "      <td>-79.42423</td>\n",
       "      <td>Entire home/apt</td>\n",
       "      <td>469.0</td>\n",
       "      <td>...</td>\n",
       "      <td>0</td>\n",
       "      <td>0</td>\n",
       "      <td>NaN</td>\n",
       "      <td>2022-06-07</td>\n",
       "      <td>f</td>\n",
       "      <td>469.0</td>\n",
       "      <td>469.0</td>\n",
       "      <td>28.0</td>\n",
       "      <td>NaN</td>\n",
       "      <td>both</td>\n",
       "    </tr>\n",
       "    <tr>\n",
       "      <th>2</th>\n",
       "      <td>0</td>\n",
       "      <td>1419</td>\n",
       "      <td>Beautiful home in amazing area!</td>\n",
       "      <td>1565</td>\n",
       "      <td>Alexandra</td>\n",
       "      <td>Little Portugal</td>\n",
       "      <td>43.6459</td>\n",
       "      <td>-79.42423</td>\n",
       "      <td>Entire home/apt</td>\n",
       "      <td>469.0</td>\n",
       "      <td>...</td>\n",
       "      <td>0</td>\n",
       "      <td>0</td>\n",
       "      <td>NaN</td>\n",
       "      <td>2022-06-08</td>\n",
       "      <td>f</td>\n",
       "      <td>469.0</td>\n",
       "      <td>469.0</td>\n",
       "      <td>28.0</td>\n",
       "      <td>NaN</td>\n",
       "      <td>both</td>\n",
       "    </tr>\n",
       "    <tr>\n",
       "      <th>3</th>\n",
       "      <td>0</td>\n",
       "      <td>1419</td>\n",
       "      <td>Beautiful home in amazing area!</td>\n",
       "      <td>1565</td>\n",
       "      <td>Alexandra</td>\n",
       "      <td>Little Portugal</td>\n",
       "      <td>43.6459</td>\n",
       "      <td>-79.42423</td>\n",
       "      <td>Entire home/apt</td>\n",
       "      <td>469.0</td>\n",
       "      <td>...</td>\n",
       "      <td>0</td>\n",
       "      <td>0</td>\n",
       "      <td>NaN</td>\n",
       "      <td>2022-06-09</td>\n",
       "      <td>f</td>\n",
       "      <td>469.0</td>\n",
       "      <td>469.0</td>\n",
       "      <td>28.0</td>\n",
       "      <td>NaN</td>\n",
       "      <td>both</td>\n",
       "    </tr>\n",
       "    <tr>\n",
       "      <th>4</th>\n",
       "      <td>0</td>\n",
       "      <td>1419</td>\n",
       "      <td>Beautiful home in amazing area!</td>\n",
       "      <td>1565</td>\n",
       "      <td>Alexandra</td>\n",
       "      <td>Little Portugal</td>\n",
       "      <td>43.6459</td>\n",
       "      <td>-79.42423</td>\n",
       "      <td>Entire home/apt</td>\n",
       "      <td>469.0</td>\n",
       "      <td>...</td>\n",
       "      <td>0</td>\n",
       "      <td>0</td>\n",
       "      <td>NaN</td>\n",
       "      <td>2022-06-10</td>\n",
       "      <td>f</td>\n",
       "      <td>469.0</td>\n",
       "      <td>469.0</td>\n",
       "      <td>28.0</td>\n",
       "      <td>NaN</td>\n",
       "      <td>both</td>\n",
       "    </tr>\n",
       "  </tbody>\n",
       "</table>\n",
       "<p>5 rows × 25 columns</p>\n",
       "</div>"
      ],
      "text/plain": [
       "   Unnamed: 0 listing_id                             name  host_id  host_name  \\\n",
       "0           0       1419  Beautiful home in amazing area!     1565  Alexandra   \n",
       "1           0       1419  Beautiful home in amazing area!     1565  Alexandra   \n",
       "2           0       1419  Beautiful home in amazing area!     1565  Alexandra   \n",
       "3           0       1419  Beautiful home in amazing area!     1565  Alexandra   \n",
       "4           0       1419  Beautiful home in amazing area!     1565  Alexandra   \n",
       "\n",
       "     neighbourhood  latitude  longitude        room_type  price_x  ...  \\\n",
       "0  Little Portugal   43.6459  -79.42423  Entire home/apt    469.0  ...   \n",
       "1  Little Portugal   43.6459  -79.42423  Entire home/apt    469.0  ...   \n",
       "2  Little Portugal   43.6459  -79.42423  Entire home/apt    469.0  ...   \n",
       "3  Little Portugal   43.6459  -79.42423  Entire home/apt    469.0  ...   \n",
       "4  Little Portugal   43.6459  -79.42423  Entire home/apt    469.0  ...   \n",
       "\n",
       "   availability_365  number_of_reviews_ltm license        date  available  \\\n",
       "0                 0                      0     NaN  2022-06-06          f   \n",
       "1                 0                      0     NaN  2022-06-07          f   \n",
       "2                 0                      0     NaN  2022-06-08          f   \n",
       "3                 0                      0     NaN  2022-06-09          f   \n",
       "4                 0                      0     NaN  2022-06-10          f   \n",
       "\n",
       "   price_y  adjusted_price minimum_nights_y maximum_nights _merge  \n",
       "0    469.0           469.0             28.0            NaN   both  \n",
       "1    469.0           469.0             28.0            NaN   both  \n",
       "2    469.0           469.0             28.0            NaN   both  \n",
       "3    469.0           469.0             28.0            NaN   both  \n",
       "4    469.0           469.0             28.0            NaN   both  \n",
       "\n",
       "[5 rows x 25 columns]"
      ]
     },
     "execution_count": 18,
     "metadata": {},
     "output_type": "execute_result"
    }
   ],
   "source": [
    "listings_cal.head()"
   ]
  },
  {
   "cell_type": "code",
   "execution_count": 19,
   "id": "ede3803c",
   "metadata": {},
   "outputs": [
    {
     "data": {
      "text/plain": [
       "(5537417, 25)"
      ]
     },
     "execution_count": 19,
     "metadata": {},
     "output_type": "execute_result"
    }
   ],
   "source": [
    "listings_cal.shape"
   ]
  },
  {
   "cell_type": "markdown",
   "id": "554a5f56",
   "metadata": {},
   "source": [
    "# 4. Export Combined Data"
   ]
  },
  {
   "cell_type": "code",
   "execution_count": 21,
   "id": "e5f5872c",
   "metadata": {},
   "outputs": [],
   "source": [
    "listings_cal.to_pickle(os.path.join(path,'02 Data','Prepared Data','Listings_Calendar_Combined.pkl'))"
   ]
  },
  {
   "cell_type": "code",
   "execution_count": null,
   "id": "f49798b8",
   "metadata": {},
   "outputs": [],
   "source": []
  }
 ],
 "metadata": {
  "kernelspec": {
   "display_name": "Python 3 (ipykernel)",
   "language": "python",
   "name": "python3"
  },
  "language_info": {
   "codemirror_mode": {
    "name": "ipython",
    "version": 3
   },
   "file_extension": ".py",
   "mimetype": "text/x-python",
   "name": "python",
   "nbconvert_exporter": "python",
   "pygments_lexer": "ipython3",
   "version": "3.9.12"
  }
 },
 "nbformat": 4,
 "nbformat_minor": 5
}
